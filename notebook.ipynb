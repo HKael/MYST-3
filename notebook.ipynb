{
 "cells": [
  {
   "cell_type": "markdown",
   "metadata": {},
   "source": [
    "<center> <img src=\"http://oci02.img.iteso.mx/identidad_de_instancia_2018/ITESO/Logos%20ITESO/Logo-ITESO-Principal.jpg\" align=\"center\" width=\"960\" height=\"480\"/> </center>"
   ]
  },
  {
   "cell_type": "markdown",
   "metadata": {},
   "source": [
    "<center><font color=#555555><font size=6> MAF1731 - Microstructure and Trading Systems </font> <br> <br>\n",
    "    \n",
    "<center><font color=#555555><font size=5> B.Eng Financial Engineering </font> <br> <br> <br> <br>\n",
    "\n",
    "<center><font color=#555555><font size=6> I.F. ALEJANDRO MICHEL MARRÓN </font> <br> <br>\n",
    "   \n",
    "<center> <font color= #555555> <font size = 4> Jun 2021 </a> | <font color= #555555> <font size = 4> Repository: <a href='https://github.com/HKael/MyST_LAB_3_EAMM'>Link</a></font>"
   ]
  },
  {
   "cell_type": "markdown",
   "metadata": {},
   "source": [
    "<hr style=\"border:0.02in solid gray\"> </hr>"
   ]
  },
  {
   "cell_type": "markdown",
   "metadata": {},
   "source": [
    "<center> <font color= #555555> <font size = 6> Lab 3 </font> <br> <br> <font color= #555555> <font size = 5> Behavioral Economics: Speculative Trading\n",
    "  </font>"
   ]
  },
  {
   "cell_type": "markdown",
   "metadata": {},
   "source": [
    "<hr style=\"border:0.02in solid gray\"> </hr>"
   ]
  },
  {
   "cell_type": "markdown",
   "metadata": {},
   "source": [
    "<br>"
   ]
  },
  {
   "cell_type": "markdown",
   "metadata": {},
   "source": [
    "<font color= #555555> <font size = 4> Abstract </font>"
   ]
  },
  {
   "cell_type": "markdown",
   "metadata": {},
   "source": [
    "<font color= #6B6B6B> <font size = 3>  Include here a description of the whole work, use no more than 400 words, you can use **Bold** and *Italic* highlights, also you can inclue [links](www.iteso.mx). Usually is a good strategy to generate this text at the very end of the process, since you have to include all aspects of the work, from a brief introduction, to problem definitions and methods used, to finally the results found. </font>"
   ]
  },
  {
   "cell_type": "markdown",
   "metadata": {},
   "source": [
    "<hr style=\"border:0.02in solid gray\"> </hr>"
   ]
  },
  {
   "cell_type": "markdown",
   "metadata": {},
   "source": [
    "<br>"
   ]
  },
  {
   "cell_type": "markdown",
   "metadata": {},
   "source": [
    "# <font color= #6B6B6B> <font size = 6> 1. Introduction </font>"
   ]
  },
  {
   "cell_type": "markdown",
   "metadata": {},
   "source": [
    "<hr style=\"border:0.02in solid gray\"> </hr>"
   ]
  },
  {
   "cell_type": "markdown",
   "metadata": {},
   "source": [
    "This is an introduction, normally, it is done at the very end, when all the other content in the notebook is completed but just before the abstract (which is short version of the introduction) ... "
   ]
  },
  {
   "cell_type": "markdown",
   "metadata": {},
   "source": [
    "<br>"
   ]
  },
  {
   "cell_type": "markdown",
   "metadata": {},
   "source": [
    "<hr style=\"border:0.02in solid gray\"> </hr>"
   ]
  },
  {
   "cell_type": "markdown",
   "metadata": {},
   "source": [
    "# <font color= #6B6B6B> 2. Install/Load Packages and Depedencies </font>"
   ]
  },
  {
   "cell_type": "markdown",
   "metadata": {},
   "source": [
    "<hr style=\"border:0.02in solid gray\"> </hr>"
   ]
  },
  {
   "cell_type": "code",
   "execution_count": 4,
   "metadata": {},
   "outputs": [],
   "source": [
    "import numpy as np\n",
    "import pandas as pd\n",
    "\n",
    "import datetime \n",
    "import time\n",
    "\n",
    "\n",
    "pd.set_option('display.float_format', '{:.4f}'.format)\n",
    "pd.set_option('display.float_format', '{:.7f}'.format)"
   ]
  },
  {
   "cell_type": "markdown",
   "metadata": {},
   "source": [
    "<br>"
   ]
  },
  {
   "cell_type": "markdown",
   "metadata": {},
   "source": [
    "<hr style=\"border:0.02in solid gray\"> </hr>"
   ]
  },
  {
   "cell_type": "markdown",
   "metadata": {},
   "source": [
    "## <font color= #6B6B6B> 2.2 Python Packages </font> <font color= #555555>"
   ]
  },
  {
   "cell_type": "markdown",
   "metadata": {},
   "source": [
    "<hr style=\"border:0.02in solid gray\"> </hr>"
   ]
  },
  {
   "cell_type": "markdown",
   "metadata": {},
   "source": [
    "In order to run this notebook, it is necessary to have installed and/or have the _requirements.txt_ file with the following: "
   ]
  },
  {
   "cell_type": "markdown",
   "metadata": {},
   "source": [
    "- pandas>=1.1.1 \n",
    "- numpy>=1.19.1\n",
    "- jupyter>=1.0.0\n",
    "- _Add any other here_"
   ]
  },
  {
   "cell_type": "markdown",
   "metadata": {},
   "source": [
    "<hr style=\"border:0.02in solid gray\"> </hr>"
   ]
  },
  {
   "cell_type": "markdown",
   "metadata": {},
   "source": [
    "## <font color= #6B6B6B> 2.3 Files Dependencies </font> <font color= #555555>"
   ]
  },
  {
   "cell_type": "markdown",
   "metadata": {},
   "source": [
    "<hr style=\"border:0.02in solid gray\"> </hr>"
   ]
  },
  {
   "cell_type": "markdown",
   "metadata": {},
   "source": [
    "The following are the file dependencies that are needed to run this notebook:"
   ]
  },
  {
   "cell_type": "markdown",
   "metadata": {},
   "source": [
    "- files/precios.csv : Precios históricos\n",
    "- files/datos.txt : Otros datos históricos"
   ]
  },
  {
   "cell_type": "markdown",
   "metadata": {},
   "source": [
    "<br>"
   ]
  },
  {
   "cell_type": "markdown",
   "metadata": {},
   "source": [
    "<hr style=\"border:0.02in solid gray\"> </hr>"
   ]
  },
  {
   "cell_type": "markdown",
   "metadata": {},
   "source": [
    "# <font color= #6B6B6B> 3. Data Description </font>"
   ]
  },
  {
   "cell_type": "markdown",
   "metadata": {},
   "source": [
    "<hr style=\"border:0.02in solid gray\"> </hr>"
   ]
  },
  {
   "cell_type": "code",
   "execution_count": 243,
   "metadata": {},
   "outputs": [],
   "source": [
    "def f_pip_size(param_ins):  \n",
    "    data_pips = f_leer_archivo(\"files/instruments_pips.csv\")\n",
    "    piprow = data_pips.loc[data_pips[\"Instrument\"] == param_ins]\n",
    "    pipsize = 1/piprow[\"TickSize\"]\n",
    "    return pipsize"
   ]
  },
  {
   "cell_type": "code",
   "execution_count": 244,
   "metadata": {},
   "outputs": [],
   "source": [
    "def f_columnas_tiempos(param_data):\n",
    "    hd = param_data\n",
    "    hd[\"Time\"] = pd.to_datetime(hd[\"Time\"])\n",
    "    hd[\"Time.1\"] = pd.to_datetime(hd[\"Time.1\"])\n",
    "    hd[\"Time3\"] = hd[\"Time.1\"] - hd[\"Time\"]\n",
    "    hd[\"Time3\"] = hd[\"Time3\"].dt.total_seconds()\n",
    "    hd = hd.rename(columns = {\"Time\" : \"Open Time\",\"Time.1\" : \"Close Time\", \"Time3\" : \"Tiempo\", \"Price\" : \"Open Price\", \"Price.1\" : \"Close Price\" })\n",
    "    return hd"
   ]
  },
  {
   "cell_type": "code",
   "execution_count": 245,
   "metadata": {},
   "outputs": [],
   "source": [
    "def f_columnas_pips(param_data):\n",
    "    rows = []\n",
    "    for x in range(len(param_data)):\n",
    "        rows.append(float(f_pip_size(param_data.loc[x, \"Symbol\"])))\n",
    "    provdf = pd.DataFrame(rows, columns=[\"Pips\"])\n",
    "    param_data[\"Pips\"] = (param_data[\"Close Price\"] - param_data[\"Open Price\"])*(provdf['Pips'])\n",
    "    param_data[\"Pips Accumulated\"] = param_data[\"Pips\"].cumsum() \n",
    "    param_data[\"Profit Accumulated\"] = param_data[\"Profit\"].cumsum() \n",
    "    return param_data\n",
    "    "
   ]
  },
  {
   "cell_type": "code",
   "execution_count": 250,
   "metadata": {},
   "outputs": [],
   "source": [
    "k3 = f_columnas_pips(f_columnas_tiempos(f_leer_archivo(\"files/historical_data.csv\")))"
   ]
  },
  {
   "cell_type": "code",
   "execution_count": 278,
   "metadata": {},
   "outputs": [],
   "source": [
    "# iterating each number in list\\\n",
    "pos_count_sell, neg_count_sell, pos_count_buy, neg_count_buy = 0, 0, 0, 0\n",
    "profit_median = k3[\"Profit\"].median()\n",
    "pip_median = k3[\"Pips\"].median()\n",
    "# Number of operations\n",
    "total_count = (len(k3))\n",
    "                    \n",
    "for x in range(total_count):\n",
    "    x += 1"
   ]
  },
  {
   "cell_type": "code",
   "execution_count": 320,
   "metadata": {},
   "outputs": [],
   "source": [
    "def f_estadisticas_ba(param_data):\n",
    "    \n",
    "    # DataFrame 1\n",
    "    buy_count,sell_count,pos_count_sell, neg_count_sell, pos_count_buy, neg_count_buy = 0, 0, 0, 0, 0, 0\n",
    "    profit_median = k3[\"Profit\"].median()\n",
    "    pip_median = k3[\"Pips\"].median()\n",
    "    # Number of operations\n",
    "    total_count = (len(k3))\n",
    "    for x in range(total_count):\n",
    "    # Count buy and sell operations \n",
    "        if k3.loc[x, \"Type\"] == \"buy\":\n",
    "            buy_count += 1\n",
    "            # Count positve and negative operations \n",
    "            if k3.loc[x, \"Profit\"] >= 0:\n",
    "                pos_count_buy += 1\n",
    "\n",
    "            else:\n",
    "                neg_count_buy += 1\n",
    "        else:\n",
    "            sell_count +=1\n",
    "            # Count positve and negative operations \n",
    "            if k3.loc[x, \"Profit\"] >= 0:\n",
    "                pos_count_sell += 1\n",
    "\n",
    "            else:\n",
    "                neg_count_sell += 1\n",
    "\n",
    "    r_efectividad = (pos_count_buy+pos_count_sell)/total_count\n",
    "    r_proporcion =  (pos_count_buy+pos_count_sell)/(neg_count_buy+neg_count_sell)\n",
    "    r_efectividad_c = pos_count_buy/total_count\n",
    "    r_efectividad_v = pos_count_sell/total_count\n",
    "    \n",
    "    medida = [\"Ops Totales\", \"Ganadoras\", \"Ganadoras_c\", \"Ganadoras_v\", \"Perdedoras\", \"Perdedoras_c\",\n",
    "              \"Perdedoras_v\", \"Mediana(Profit)\", \"Mediana(Pips)\", \"r_efectividad\", \"r_proporcion\",\n",
    "              \"r_efectividad_c\", \"r_efectividad_v\"]\n",
    "    \n",
    "    values = np.array( [total_count, (pos_count_buy+pos_count_sell), pos_count_buy, pos_count_sell, \n",
    "                        (neg_count_buy+neg_count_sell),neg_count_buy, neg_count_sell, profit_median, \n",
    "                        pip_median, r_efectividad,r_proporcion,r_efectividad_c,r_efectividad_v])\n",
    "    \n",
    "    description = [\"Operaciones Totales\", \"Operaciones Ganadoras\", \"Operaciones Ganadoras de Compra\", \n",
    "                   \"Operaciones Ganadoras de Venta\", \"Operaciones Perdedoras\", \"Operaciones Perdedoras de Compra\",\n",
    "                   \"Operaciones Perdedoras de Venta\", \"Mediana de Profit de Operaciones\", \n",
    "                   \"Mediana de Pips de Operaciones\",\"Ganadoras Totales/Operaciones Totales\", \n",
    "                   \"Ganadoras Totales/Perdedoras Totales\", \"Ganadoras Compras/Operaciones Totales\", \"Ganadoras Ventas/Operaciones Totales\"]\n",
    "    \n",
    "    df1 = pd.DataFrame([medida,values,description]).transpose()\n",
    "    df1 = df1.rename(columns = {0 : \"Measurment\", 1 : \"Value\", 2 : \"Description\"})\n",
    "    \n",
    "    # DatFrame 2\n",
    "    symbols = np.unique(param_data['Symbol'])  # listo ya tenemos los unicos\n",
    "    rank = []\n",
    "    for i in range(len(unique)):\n",
    "        pos_count_rank = 0\n",
    "        neg_count_rank = 0\n",
    "        for j in range(len(archivo)):\n",
    "            if unicos[i] == param_data['Symbol'].iloc[j] and param_data['Profit'].iloc[j] > 0:\n",
    "                pos_count_rank += 1\n",
    "                \n",
    "            elif unicos[i] == param_data['Symbol'].iloc[j] and param_data['Profit'].iloc[j] < 0:\n",
    "                neg_count_rank += 1\n",
    "\n",
    "        total = neg_count_rank + pos_count_rank\n",
    "        rank.append(pos_count_rank / total)\n",
    "\n",
    "    df2 = pd.DataFrame({'Symbol': symbols, 'Rank': rank})\n",
    "    df2 = df2.sort_values(by='rank', ascending=False)\n",
    "    dictionary = {'df_1_tabla': df1, 'df_2_ranking': df2}\n",
    "    return dictionary"
   ]
  },
  {
   "cell_type": "code",
   "execution_count": 345,
   "metadata": {},
   "outputs": [],
   "source": [
    "def f_estadisticas_ba(param_data):\n",
    "    \n",
    "    # DataFrame 1\n",
    "    buy_count,sell_count,pos_count_sell, neg_count_sell, pos_count_buy, neg_count_buy = 0, 0, 0, 0, 0, 0\n",
    "    profit_median = param_data[\"Profit\"].median()\n",
    "    pip_median = param_data[\"Pips\"].median()\n",
    "    # Number of operations\n",
    "    total_count = (len(param_data))\n",
    "    for x in range(total_count):\n",
    "    # Count buy and sell operations \n",
    "        if param_data.loc[x, \"Type\"] == \"buy\":\n",
    "            buy_count += 1\n",
    "            # Count positve and negative operations \n",
    "            if param_data.loc[x, \"Profit\"] >= 0:\n",
    "                pos_count_buy += 1\n",
    "\n",
    "            else:\n",
    "                neg_count_buy += 1\n",
    "        else:\n",
    "            sell_count +=1\n",
    "            # Count positve and negative operations \n",
    "            if param_data.loc[x, \"Profit\"] >= 0:\n",
    "                pos_count_sell += 1\n",
    "\n",
    "            else:\n",
    "                neg_count_sell += 1\n",
    "\n",
    "    r_efectividad = (pos_count_buy+pos_count_sell)/total_count\n",
    "    r_proporcion =  (pos_count_buy+pos_count_sell)/(neg_count_buy+neg_count_sell)\n",
    "    r_efectividad_c = pos_count_buy/total_count\n",
    "    r_efectividad_v = pos_count_sell/total_count\n",
    "    \n",
    "    medida = [\"Ops Totales\", \"Ganadoras\", \"Ganadoras_c\", \"Ganadoras_v\", \"Perdedoras\", \"Perdedoras_c\",\n",
    "              \"Perdedoras_v\", \"Mediana(Profit)\", \"Mediana(Pips)\", \"r_efectividad\", \"r_proporcion\",\n",
    "              \"r_efectividad_c\", \"r_efectividad_v\"]\n",
    "    \n",
    "    values = np.array( [total_count, (pos_count_buy+pos_count_sell), pos_count_buy, pos_count_sell, \n",
    "                        (neg_count_buy+neg_count_sell),neg_count_buy, neg_count_sell, profit_median, \n",
    "                        pip_median, r_efectividad,r_proporcion,r_efectividad_c,r_efectividad_v])\n",
    "    \n",
    "    description = [\"Operaciones Totales\", \"Operaciones Ganadoras\", \"Operaciones Ganadoras de Compra\", \n",
    "                   \"Operaciones Ganadoras de Venta\", \"Operaciones Perdedoras\", \"Operaciones Perdedoras de Compra\",\n",
    "                   \"Operaciones Perdedoras de Venta\", \"Mediana de Profit de Operaciones\", \n",
    "                   \"Mediana de Pips de Operaciones\",\"Ganadoras Totales/Operaciones Totales\", \n",
    "                   \"Ganadoras Totales/Perdedoras Totales\", \"Ganadoras Compras/Operaciones Totales\", \"Ganadoras Ventas/Operaciones Totales\"]\n",
    "    \n",
    "    df1 = pd.DataFrame({'Measurment': medida, 'Value': values, 'Description': description})\n",
    "    \n",
    "    # DatFrame 2\n",
    "    symbols = np.unique(param_data['Symbol'])  # listo ya tenemos los unicos\n",
    "    rank = []\n",
    "    for i in range(len(symbols)):\n",
    "        pos_count_rank = 0\n",
    "        neg_count_rank = 0\n",
    "        for j in range(len(param_data)):\n",
    "            if symbols[i] == param_data['Symbol'].iloc[j] and param_data['Profit'].iloc[j] > 0:\n",
    "                pos_count_rank += 1\n",
    "                \n",
    "            elif symbols[i] == param_data['Symbol'].iloc[j] and param_data['Profit'].iloc[j] < 0:\n",
    "                neg_count_rank += 1\n",
    "\n",
    "        total = neg_count_rank + pos_count_rank\n",
    "        rank.append(pos_count_rank / total)\n",
    "\n",
    "    df2 = pd.DataFrame({'Symbol': symbols, 'Rank': rank})\n",
    "    df2 = df2.sort_values(by='rank', ascending=False)\n",
    "    \n",
    "    # Combine both to make the dictionary\n",
    "    dictionary = {'df_1_tabla': df1, 'df_2_ranking': df2}\n",
    "    return dictionary"
   ]
  },
  {
   "cell_type": "code",
   "execution_count": 346,
   "metadata": {},
   "outputs": [],
   "source": [
    "k4 = f_estadisticas_ba2(k3)"
   ]
  },
  {
   "cell_type": "code",
   "execution_count": 347,
   "metadata": {},
   "outputs": [
    {
     "data": {
      "text/html": [
       "<div>\n",
       "<style scoped>\n",
       "    .dataframe tbody tr th:only-of-type {\n",
       "        vertical-align: middle;\n",
       "    }\n",
       "\n",
       "    .dataframe tbody tr th {\n",
       "        vertical-align: top;\n",
       "    }\n",
       "\n",
       "    .dataframe thead th {\n",
       "        text-align: right;\n",
       "    }\n",
       "</style>\n",
       "<table border=\"1\" class=\"dataframe\">\n",
       "  <thead>\n",
       "    <tr style=\"text-align: right;\">\n",
       "      <th></th>\n",
       "      <th>symbol</th>\n",
       "      <th>rank</th>\n",
       "    </tr>\n",
       "  </thead>\n",
       "  <tbody>\n",
       "    <tr>\n",
       "      <th>1</th>\n",
       "      <td>ETHUSD</td>\n",
       "      <td>1.00</td>\n",
       "    </tr>\n",
       "    <tr>\n",
       "      <th>4</th>\n",
       "      <td>LNKUSD</td>\n",
       "      <td>1.00</td>\n",
       "    </tr>\n",
       "    <tr>\n",
       "      <th>5</th>\n",
       "      <td>LTCUSD</td>\n",
       "      <td>1.00</td>\n",
       "    </tr>\n",
       "    <tr>\n",
       "      <th>7</th>\n",
       "      <td>XLMUSD</td>\n",
       "      <td>1.00</td>\n",
       "    </tr>\n",
       "    <tr>\n",
       "      <th>8</th>\n",
       "      <td>XMRUSD</td>\n",
       "      <td>1.00</td>\n",
       "    </tr>\n",
       "    <tr>\n",
       "      <th>0</th>\n",
       "      <td>BTCUSD</td>\n",
       "      <td>0.67</td>\n",
       "    </tr>\n",
       "    <tr>\n",
       "      <th>9</th>\n",
       "      <td>XRPUSD</td>\n",
       "      <td>0.50</td>\n",
       "    </tr>\n",
       "    <tr>\n",
       "      <th>2</th>\n",
       "      <td>EURUSD</td>\n",
       "      <td>0.00</td>\n",
       "    </tr>\n",
       "    <tr>\n",
       "      <th>3</th>\n",
       "      <td>IOTUSD</td>\n",
       "      <td>0.00</td>\n",
       "    </tr>\n",
       "    <tr>\n",
       "      <th>6</th>\n",
       "      <td>USDJPY</td>\n",
       "      <td>0.00</td>\n",
       "    </tr>\n",
       "  </tbody>\n",
       "</table>\n",
       "</div>"
      ],
      "text/plain": [
       "   symbol  rank\n",
       "1  ETHUSD  1.00\n",
       "4  LNKUSD  1.00\n",
       "5  LTCUSD  1.00\n",
       "7  XLMUSD  1.00\n",
       "8  XMRUSD  1.00\n",
       "0  BTCUSD  0.67\n",
       "9  XRPUSD  0.50\n",
       "2  EURUSD  0.00\n",
       "3  IOTUSD  0.00\n",
       "6  USDJPY  0.00"
      ]
     },
     "execution_count": 347,
     "metadata": {},
     "output_type": "execute_result"
    }
   ],
   "source": [
    "k4"
   ]
  },
  {
   "cell_type": "code",
   "execution_count": 344,
   "metadata": {},
   "outputs": [
    {
     "ename": "AttributeError",
     "evalue": "'DataFrame' object has no attribute 'clear'",
     "output_type": "error",
     "traceback": [
      "\u001b[1;31m---------------------------------------------------------------------------\u001b[0m",
      "\u001b[1;31mAttributeError\u001b[0m                            Traceback (most recent call last)",
      "\u001b[1;32m<ipython-input-344-c838b438ef60>\u001b[0m in \u001b[0;36m<module>\u001b[1;34m\u001b[0m\n\u001b[1;32m----> 1\u001b[1;33m \u001b[0mk4\u001b[0m\u001b[1;33m.\u001b[0m\u001b[0mclear\u001b[0m\u001b[1;33m(\u001b[0m\u001b[1;33m)\u001b[0m\u001b[1;33m\u001b[0m\u001b[1;33m\u001b[0m\u001b[0m\n\u001b[0m",
      "\u001b[1;32mc:\\users\\aleja\\pycharmprojects\\myst_lab_3_eamm\\venv\\lib\\site-packages\\pandas\\core\\generic.py\u001b[0m in \u001b[0;36m__getattr__\u001b[1;34m(self, name)\u001b[0m\n\u001b[0;32m   5463\u001b[0m             \u001b[1;32mif\u001b[0m \u001b[0mself\u001b[0m\u001b[1;33m.\u001b[0m\u001b[0m_info_axis\u001b[0m\u001b[1;33m.\u001b[0m\u001b[0m_can_hold_identifiers_and_holds_name\u001b[0m\u001b[1;33m(\u001b[0m\u001b[0mname\u001b[0m\u001b[1;33m)\u001b[0m\u001b[1;33m:\u001b[0m\u001b[1;33m\u001b[0m\u001b[1;33m\u001b[0m\u001b[0m\n\u001b[0;32m   5464\u001b[0m                 \u001b[1;32mreturn\u001b[0m \u001b[0mself\u001b[0m\u001b[1;33m[\u001b[0m\u001b[0mname\u001b[0m\u001b[1;33m]\u001b[0m\u001b[1;33m\u001b[0m\u001b[1;33m\u001b[0m\u001b[0m\n\u001b[1;32m-> 5465\u001b[1;33m             \u001b[1;32mreturn\u001b[0m \u001b[0mobject\u001b[0m\u001b[1;33m.\u001b[0m\u001b[0m__getattribute__\u001b[0m\u001b[1;33m(\u001b[0m\u001b[0mself\u001b[0m\u001b[1;33m,\u001b[0m \u001b[0mname\u001b[0m\u001b[1;33m)\u001b[0m\u001b[1;33m\u001b[0m\u001b[1;33m\u001b[0m\u001b[0m\n\u001b[0m\u001b[0;32m   5466\u001b[0m \u001b[1;33m\u001b[0m\u001b[0m\n\u001b[0;32m   5467\u001b[0m     \u001b[1;32mdef\u001b[0m \u001b[0m__setattr__\u001b[0m\u001b[1;33m(\u001b[0m\u001b[0mself\u001b[0m\u001b[1;33m,\u001b[0m \u001b[0mname\u001b[0m\u001b[1;33m:\u001b[0m \u001b[0mstr\u001b[0m\u001b[1;33m,\u001b[0m \u001b[0mvalue\u001b[0m\u001b[1;33m)\u001b[0m \u001b[1;33m->\u001b[0m \u001b[1;32mNone\u001b[0m\u001b[1;33m:\u001b[0m\u001b[1;33m\u001b[0m\u001b[1;33m\u001b[0m\u001b[0m\n",
      "\u001b[1;31mAttributeError\u001b[0m: 'DataFrame' object has no attribute 'clear'"
     ]
    }
   ],
   "source": [
    "k4.clear()"
   ]
  },
  {
   "cell_type": "code",
   "execution_count": 343,
   "metadata": {},
   "outputs": [
    {
     "ename": "TypeError",
     "evalue": "'numpy.ndarray' object is not callable",
     "output_type": "error",
     "traceback": [
      "\u001b[1;31m---------------------------------------------------------------------------\u001b[0m",
      "\u001b[1;31mTypeError\u001b[0m                                 Traceback (most recent call last)",
      "\u001b[1;32m<ipython-input-343-37d8c439b785>\u001b[0m in \u001b[0;36m<module>\u001b[1;34m\u001b[0m\n\u001b[1;32m----> 1\u001b[1;33m \u001b[0mk4\u001b[0m\u001b[1;33m.\u001b[0m\u001b[0mvalues\u001b[0m\u001b[1;33m(\u001b[0m\u001b[1;33m)\u001b[0m\u001b[1;33m\u001b[0m\u001b[1;33m\u001b[0m\u001b[0m\n\u001b[0m",
      "\u001b[1;31mTypeError\u001b[0m: 'numpy.ndarray' object is not callable"
     ]
    }
   ],
   "source": []
  },
  {
   "cell_type": "code",
   "execution_count": 317,
   "metadata": {},
   "outputs": [
    {
     "data": {
      "text/html": [
       "<div>\n",
       "<style scoped>\n",
       "    .dataframe tbody tr th:only-of-type {\n",
       "        vertical-align: middle;\n",
       "    }\n",
       "\n",
       "    .dataframe tbody tr th {\n",
       "        vertical-align: top;\n",
       "    }\n",
       "\n",
       "    .dataframe thead th {\n",
       "        text-align: right;\n",
       "    }\n",
       "</style>\n",
       "<table border=\"1\" class=\"dataframe\">\n",
       "  <thead>\n",
       "    <tr style=\"text-align: right;\">\n",
       "      <th></th>\n",
       "      <th>Measurment</th>\n",
       "      <th>Value</th>\n",
       "      <th>Description</th>\n",
       "    </tr>\n",
       "  </thead>\n",
       "  <tbody>\n",
       "    <tr>\n",
       "      <th>0</th>\n",
       "      <td>Ops Totales</td>\n",
       "      <td>17.00</td>\n",
       "      <td>Operaciones Totales</td>\n",
       "    </tr>\n",
       "    <tr>\n",
       "      <th>1</th>\n",
       "      <td>Ganadoras</td>\n",
       "      <td>12.00</td>\n",
       "      <td>Operaciones Ganadoras</td>\n",
       "    </tr>\n",
       "    <tr>\n",
       "      <th>2</th>\n",
       "      <td>Ganadoras_c</td>\n",
       "      <td>12.00</td>\n",
       "      <td>Operaciones Ganadoras de Compra</td>\n",
       "    </tr>\n",
       "    <tr>\n",
       "      <th>3</th>\n",
       "      <td>Ganadoras_v</td>\n",
       "      <td>0.00</td>\n",
       "      <td>Operaciones Ganadoras de Venta</td>\n",
       "    </tr>\n",
       "    <tr>\n",
       "      <th>4</th>\n",
       "      <td>Perdedoras</td>\n",
       "      <td>5.00</td>\n",
       "      <td>Operaciones Perdedoras</td>\n",
       "    </tr>\n",
       "    <tr>\n",
       "      <th>5</th>\n",
       "      <td>Perdedoras_c</td>\n",
       "      <td>5.00</td>\n",
       "      <td>Operaciones Perdedoras de Compra</td>\n",
       "    </tr>\n",
       "    <tr>\n",
       "      <th>6</th>\n",
       "      <td>Perdedoras_v</td>\n",
       "      <td>0.00</td>\n",
       "      <td>Operaciones Perdedoras de Venta</td>\n",
       "    </tr>\n",
       "    <tr>\n",
       "      <th>7</th>\n",
       "      <td>Mediana(Profit)</td>\n",
       "      <td>851.50</td>\n",
       "      <td>Mediana de Profit de Operaciones</td>\n",
       "    </tr>\n",
       "    <tr>\n",
       "      <th>8</th>\n",
       "      <td>Mediana(Pips)</td>\n",
       "      <td>836.00</td>\n",
       "      <td>Mediana de Pips de Operaciones</td>\n",
       "    </tr>\n",
       "    <tr>\n",
       "      <th>9</th>\n",
       "      <td>r_efectividad</td>\n",
       "      <td>0.71</td>\n",
       "      <td>Ganadoras Totales/Operaciones Totales</td>\n",
       "    </tr>\n",
       "    <tr>\n",
       "      <th>10</th>\n",
       "      <td>r_proporcion</td>\n",
       "      <td>2.40</td>\n",
       "      <td>Ganadoras Totales/Perdedoras Totales</td>\n",
       "    </tr>\n",
       "    <tr>\n",
       "      <th>11</th>\n",
       "      <td>r_efectividad_c</td>\n",
       "      <td>0.71</td>\n",
       "      <td>Ganadoras Compras/Operaciones Totales</td>\n",
       "    </tr>\n",
       "    <tr>\n",
       "      <th>12</th>\n",
       "      <td>r_efectividad_v</td>\n",
       "      <td>0.00</td>\n",
       "      <td>Ganadoras Ventas/Operaciones Totales</td>\n",
       "    </tr>\n",
       "  </tbody>\n",
       "</table>\n",
       "</div>"
      ],
      "text/plain": [
       "         Measurment  Value                            Description\n",
       "0       Ops Totales  17.00                    Operaciones Totales\n",
       "1         Ganadoras  12.00                  Operaciones Ganadoras\n",
       "2       Ganadoras_c  12.00        Operaciones Ganadoras de Compra\n",
       "3       Ganadoras_v   0.00         Operaciones Ganadoras de Venta\n",
       "4        Perdedoras   5.00                 Operaciones Perdedoras\n",
       "5      Perdedoras_c   5.00       Operaciones Perdedoras de Compra\n",
       "6      Perdedoras_v   0.00        Operaciones Perdedoras de Venta\n",
       "7   Mediana(Profit) 851.50       Mediana de Profit de Operaciones\n",
       "8     Mediana(Pips) 836.00         Mediana de Pips de Operaciones\n",
       "9     r_efectividad   0.71  Ganadoras Totales/Operaciones Totales\n",
       "10     r_proporcion   2.40   Ganadoras Totales/Perdedoras Totales\n",
       "11  r_efectividad_c   0.71  Ganadoras Compras/Operaciones Totales\n",
       "12  r_efectividad_v   0.00   Ganadoras Ventas/Operaciones Totales"
      ]
     },
     "execution_count": 317,
     "metadata": {},
     "output_type": "execute_result"
    }
   ],
   "source": [
    "f_estadisticas_ba(k3)"
   ]
  },
  {
   "cell_type": "code",
   "execution_count": 286,
   "metadata": {},
   "outputs": [
    {
     "data": {
      "text/plain": [
       "['Operaciones Totales',\n",
       " 'Operaciones Ganadoras',\n",
       " 'Operaciones Ganadoras de Compra',\n",
       " 'Operaciones Perdedoras de Venta',\n",
       " 'Operaciones Perdedoras',\n",
       " 'Operaciones Perdedoras de Compra',\n",
       " 'Operaciones Perdedoras de Venta',\n",
       " 'Mediana de Profit de Operaciones',\n",
       " 'Ganadoras Totales/Operaciones Totales',\n",
       " 'Ganadoras Totales/Perdedoras Totales',\n",
       " 'Ganadoras Compras/Operaciones Totales',\n",
       " 'Ganadoras Ventas/Operaciones Totales']"
      ]
     },
     "execution_count": 286,
     "metadata": {},
     "output_type": "execute_result"
    }
   ],
   "source": []
  },
  {
   "cell_type": "code",
   "execution_count": 259,
   "metadata": {},
   "outputs": [],
   "source": [
    "buy_count,sell_count = 0,0\n",
    "for x in range(len(k3)):\n",
    "    if k3.loc[x, \"Type\"] == \"buy\":\n",
    "        buy_count += 1\n",
    "    else:\n",
    "        sell_count +=1\n",
    "\n",
    "    "
   ]
  },
  {
   "cell_type": "code",
   "execution_count": 260,
   "metadata": {},
   "outputs": [
    {
     "data": {
      "text/plain": [
       "17"
      ]
     },
     "execution_count": 260,
     "metadata": {},
     "output_type": "execute_result"
    }
   ],
   "source": [
    "buy_count"
   ]
  },
  {
   "cell_type": "code",
   "execution_count": 255,
   "metadata": {},
   "outputs": [
    {
     "data": {
      "text/html": [
       "<div>\n",
       "<style scoped>\n",
       "    .dataframe tbody tr th:only-of-type {\n",
       "        vertical-align: middle;\n",
       "    }\n",
       "\n",
       "    .dataframe tbody tr th {\n",
       "        vertical-align: top;\n",
       "    }\n",
       "\n",
       "    .dataframe thead th {\n",
       "        text-align: right;\n",
       "    }\n",
       "</style>\n",
       "<table border=\"1\" class=\"dataframe\">\n",
       "  <thead>\n",
       "    <tr style=\"text-align: right;\">\n",
       "      <th></th>\n",
       "      <th>Open Time</th>\n",
       "      <th>Position</th>\n",
       "      <th>Symbol</th>\n",
       "      <th>Type</th>\n",
       "      <th>Volume</th>\n",
       "      <th>Open Price</th>\n",
       "      <th>S / L</th>\n",
       "      <th>T / P</th>\n",
       "      <th>Close Time</th>\n",
       "      <th>Close Price</th>\n",
       "      <th>Commission</th>\n",
       "      <th>Swap</th>\n",
       "      <th>Profit</th>\n",
       "      <th>Tiempo</th>\n",
       "      <th>Pips</th>\n",
       "      <th>Pips Accumulated</th>\n",
       "      <th>Profit Accumulated</th>\n",
       "    </tr>\n",
       "  </thead>\n",
       "  <tbody>\n",
       "    <tr>\n",
       "      <th>0</th>\n",
       "      <td>2021-06-08 16:54:29</td>\n",
       "      <td>41566202</td>\n",
       "      <td>LNKUSD</td>\n",
       "      <td>buy</td>\n",
       "      <td>11.00</td>\n",
       "      <td>23.20</td>\n",
       "      <td>NaN</td>\n",
       "      <td>NaN</td>\n",
       "      <td>2021-06-09 15:26:18</td>\n",
       "      <td>24.45</td>\n",
       "      <td>0</td>\n",
       "      <td>-14.75</td>\n",
       "      <td>1376.80</td>\n",
       "      <td>81109.00</td>\n",
       "      <td>1251.64</td>\n",
       "      <td>1251.64</td>\n",
       "      <td>1376.80</td>\n",
       "    </tr>\n",
       "    <tr>\n",
       "      <th>1</th>\n",
       "      <td>2021-06-08 16:59:03</td>\n",
       "      <td>41566725</td>\n",
       "      <td>BTCUSD</td>\n",
       "      <td>buy</td>\n",
       "      <td>5.00</td>\n",
       "      <td>32549.55</td>\n",
       "      <td>31000.00</td>\n",
       "      <td>44000.00</td>\n",
       "      <td>2021-06-09 15:26:09</td>\n",
       "      <td>35154.70</td>\n",
       "      <td>0</td>\n",
       "      <td>-93.32</td>\n",
       "      <td>13025.75</td>\n",
       "      <td>80826.00</td>\n",
       "      <td>260515.00</td>\n",
       "      <td>261766.64</td>\n",
       "      <td>14402.55</td>\n",
       "    </tr>\n",
       "    <tr>\n",
       "      <th>2</th>\n",
       "      <td>2021-06-08 16:59:57</td>\n",
       "      <td>41566764</td>\n",
       "      <td>ETHUSD</td>\n",
       "      <td>buy</td>\n",
       "      <td>5.00</td>\n",
       "      <td>2439.85</td>\n",
       "      <td>2305.74</td>\n",
       "      <td>2750.00</td>\n",
       "      <td>2021-06-09 15:26:15</td>\n",
       "      <td>2555.45</td>\n",
       "      <td>0</td>\n",
       "      <td>-70.38</td>\n",
       "      <td>5780.00</td>\n",
       "      <td>80778.00</td>\n",
       "      <td>11560.00</td>\n",
       "      <td>273326.64</td>\n",
       "      <td>20182.55</td>\n",
       "    </tr>\n",
       "  </tbody>\n",
       "</table>\n",
       "</div>"
      ],
      "text/plain": [
       "            Open Time  Position  Symbol Type  Volume  Open Price    S / L  \\\n",
       "0 2021-06-08 16:54:29  41566202  LNKUSD  buy   11.00       23.20      NaN   \n",
       "1 2021-06-08 16:59:03  41566725  BTCUSD  buy    5.00    32549.55 31000.00   \n",
       "2 2021-06-08 16:59:57  41566764  ETHUSD  buy    5.00     2439.85  2305.74   \n",
       "\n",
       "     T / P          Close Time  Close Price  Commission   Swap   Profit  \\\n",
       "0      NaN 2021-06-09 15:26:18        24.45           0 -14.75  1376.80   \n",
       "1 44000.00 2021-06-09 15:26:09     35154.70           0 -93.32 13025.75   \n",
       "2  2750.00 2021-06-09 15:26:15      2555.45           0 -70.38  5780.00   \n",
       "\n",
       "    Tiempo      Pips  Pips Accumulated  Profit Accumulated  \n",
       "0 81109.00   1251.64           1251.64             1376.80  \n",
       "1 80826.00 260515.00         261766.64            14402.55  \n",
       "2 80778.00  11560.00         273326.64            20182.55  "
      ]
     },
     "execution_count": 255,
     "metadata": {},
     "output_type": "execute_result"
    }
   ],
   "source": [
    "k3.head(3)"
   ]
  },
  {
   "cell_type": "code",
   "execution_count": 234,
   "metadata": {},
   "outputs": [],
   "source": [
    "def countIncrease(df,column):\n",
    "    print (sum(df[column].pct_change().fillna(0) > 0))"
   ]
  },
  {
   "cell_type": "code",
   "execution_count": 236,
   "metadata": {},
   "outputs": [
    {
     "name": "stdout",
     "output_type": "stream",
     "text": [
      "1\n"
     ]
    }
   ],
   "source": [
    "countIncrease(k3,\"Profit\")"
   ]
  },
  {
   "cell_type": "code",
   "execution_count": 2,
   "metadata": {},
   "outputs": [],
   "source": [
    "# DELETE THIS CELL IN YOUR FILE\n",
    "\n",
    "# Here you include content from data conceptual, statistical and visual description"
   ]
  },
  {
   "cell_type": "markdown",
   "metadata": {},
   "source": [
    "<br>"
   ]
  },
  {
   "cell_type": "markdown",
   "metadata": {},
   "source": [
    "# <font color= #6B6B6B> 4. Descriptive statistics  </font>"
   ]
  },
  {
   "cell_type": "markdown",
   "metadata": {},
   "source": [
    "<hr style=\"border:0.02in solid gray\"> </hr>"
   ]
  },
  {
   "cell_type": "code",
   "execution_count": 3,
   "metadata": {},
   "outputs": [],
   "source": [
    "# DELETE THIS CELL IN YOUR FILE\n",
    "\n",
    "# A particular process that is relevant for the work you are presenting."
   ]
  },
  {
   "cell_type": "markdown",
   "metadata": {},
   "source": [
    "<br>"
   ]
  },
  {
   "cell_type": "markdown",
   "metadata": {},
   "source": [
    "# <font color= #6B6B6B> 5. Performance Attribution Measures  </font>"
   ]
  },
  {
   "cell_type": "markdown",
   "metadata": {},
   "source": [
    "<hr style=\"border:0.02in solid gray\"> </hr>"
   ]
  },
  {
   "cell_type": "code",
   "execution_count": 4,
   "metadata": {},
   "outputs": [],
   "source": [
    "# DELETE THIS CELL IN YOUR FILE\n",
    "\n",
    "# Another particular process that is relevant for the work. Normally, you include between 2 and 5 at the most."
   ]
  },
  {
   "cell_type": "markdown",
   "metadata": {},
   "source": [
    "# <font color= #6B6B6B> 6. Behavioral Finance </font>"
   ]
  },
  {
   "cell_type": "markdown",
   "metadata": {},
   "source": [
    "<hr style=\"border:0.02in solid gray\"> </hr>"
   ]
  },
  {
   "cell_type": "code",
   "execution_count": 4,
   "metadata": {},
   "outputs": [],
   "source": [
    "# DELETE THIS CELL IN YOUR FILE\n",
    "\n",
    "# Another particular process that is relevant for the work. Normally, you include between 2 and 5 at the most."
   ]
  },
  {
   "cell_type": "markdown",
   "metadata": {},
   "source": [
    "<br>"
   ]
  },
  {
   "cell_type": "markdown",
   "metadata": {},
   "source": [
    "# <font color= #6B6B6B> <font size = 6> 5. Results and visualizations </font>"
   ]
  },
  {
   "cell_type": "markdown",
   "metadata": {},
   "source": [
    "<hr style=\"border:0.02in solid gray\"> </hr>"
   ]
  },
  {
   "cell_type": "code",
   "execution_count": 5,
   "metadata": {},
   "outputs": [],
   "source": [
    "# DELETE THIS CELL IN YOUR FILE\n",
    "\n",
    "# In here you present the general results, and also, a discussion of such results."
   ]
  },
  {
   "cell_type": "markdown",
   "metadata": {},
   "source": [
    "<br>"
   ]
  },
  {
   "cell_type": "markdown",
   "metadata": {},
   "source": [
    "## <font color= #6B6B6B> 5.1 Results of first processes </font>"
   ]
  },
  {
   "cell_type": "code",
   "execution_count": 6,
   "metadata": {},
   "outputs": [],
   "source": [
    "# DELETE THIS CELL IN YOUR FILE\n",
    "\n",
    "# Separate your results according to the main processes you are working on"
   ]
  },
  {
   "cell_type": "markdown",
   "metadata": {},
   "source": [
    "<br>"
   ]
  },
  {
   "cell_type": "markdown",
   "metadata": {},
   "source": [
    "## <font color= #6B6B6B> 5.2 Results of another proces </font>"
   ]
  },
  {
   "cell_type": "code",
   "execution_count": 7,
   "metadata": {},
   "outputs": [],
   "source": [
    "# DELETE THIS CELL IN YOUR FILE\n",
    "\n",
    "# You can have several processes with which you are obtaining the results you need."
   ]
  },
  {
   "cell_type": "markdown",
   "metadata": {},
   "source": [
    "<br>"
   ]
  },
  {
   "cell_type": "markdown",
   "metadata": {},
   "source": [
    "# <font color= #6B6B6B> <font size = 6> 6. References </font>"
   ]
  },
  {
   "cell_type": "markdown",
   "metadata": {},
   "source": [
    "<hr style=\"border:0.02in solid gray\"> </hr>"
   ]
  },
  {
   "cell_type": "markdown",
   "metadata": {},
   "source": [
    "[1] Munnoz, 2020. Python project template. https://github.com/iffranciscome/python-project. (2021)."
   ]
  },
  {
   "cell_type": "markdown",
   "metadata": {},
   "source": [
    "<br>"
   ]
  }
 ],
 "metadata": {
  "kernelspec": {
   "display_name": "Python 3",
   "language": "python",
   "name": "python3"
  },
  "language_info": {
   "codemirror_mode": {
    "name": "ipython",
    "version": 3
   },
   "file_extension": ".py",
   "mimetype": "text/x-python",
   "name": "python",
   "nbconvert_exporter": "python",
   "pygments_lexer": "ipython3",
   "version": "3.8.8"
  }
 },
 "nbformat": 4,
 "nbformat_minor": 4
}

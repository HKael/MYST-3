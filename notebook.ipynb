{
 "cells": [
  {
   "cell_type": "markdown",
   "metadata": {},
   "source": [
    "<center> <img src=\"http://oci02.img.iteso.mx/identidad_de_instancia_2018/ITESO/Logos%20ITESO/Logo-ITESO-Principal.jpg\" align=\"center\" width=\"960\" height=\"480\"/> </center>"
   ]
  },
  {
   "cell_type": "markdown",
   "metadata": {},
   "source": [
    "<center><font color=#555555><font size=6> MAF1731 - Microstructure and Trading Systems </font> <br> <br>\n",
    "    \n",
    "<center><font color=#555555><font size=5> B.Eng Financial Engineering </font> <br> <br> <br> <br>\n",
    "\n",
    "<center><font color=#555555><font size=6> I.F. ALEJANDRO MICHEL MARRÓN </font> <br> <br>\n",
    "   \n",
    "<center> <font color= #555555> <font size = 4> Jun 2021 </a> | <font color= #555555> <font size = 4> Repository: <a href='https://github.com/HKael/MyST_LAB_3_EAMM'>Link</a></font>"
   ]
  },
  {
   "cell_type": "markdown",
   "metadata": {},
   "source": [
    "<hr style=\"border:0.02in solid gray\"> </hr>"
   ]
  },
  {
   "cell_type": "markdown",
   "metadata": {},
   "source": [
    "<center> <font color= #555555> <font size = 6> Lab 3 </font> <br> <br> <font color= #555555> <font size = 5> Behavioral Economics: Speculative Trading\n",
    "  </font>"
   ]
  },
  {
   "cell_type": "markdown",
   "metadata": {},
   "source": [
    "<hr style=\"border:0.02in solid gray\"> </hr>"
   ]
  },
  {
   "cell_type": "markdown",
   "metadata": {},
   "source": [
    "<br>"
   ]
  },
  {
   "cell_type": "markdown",
   "metadata": {},
   "source": [
    "<font color= #555555> <font size = 4> Abstract </font>"
   ]
  },
  {
   "cell_type": "markdown",
   "metadata": {},
   "source": [
    "<font color= #6B6B6B> <font size = 3>  Include here a description of the whole work, use no more than 400 words, you can use **Bold** and *Italic* highlights, also you can inclue [links](www.iteso.mx). Usually is a good strategy to generate this text at the very end of the process, since you have to include all aspects of the work, from a brief introduction, to problem definitions and methods used, to finally the results found. </font>"
   ]
  },
  {
   "cell_type": "markdown",
   "metadata": {},
   "source": [
    "<hr style=\"border:0.02in solid gray\"> </hr>"
   ]
  },
  {
   "cell_type": "markdown",
   "metadata": {},
   "source": [
    "<br>"
   ]
  },
  {
   "cell_type": "markdown",
   "metadata": {},
   "source": [
    "# <font color= #6B6B6B> <font size = 6> 1. Introduction </font>"
   ]
  },
  {
   "cell_type": "markdown",
   "metadata": {},
   "source": [
    "<hr style=\"border:0.02in solid gray\"> </hr>"
   ]
  },
  {
   "cell_type": "markdown",
   "metadata": {},
   "source": [
    "This is an introduction, normally, it is done at the very end, when all the other content in the notebook is completed but just before the abstract (which is short version of the introduction) ... "
   ]
  },
  {
   "cell_type": "markdown",
   "metadata": {},
   "source": [
    "<br>"
   ]
  },
  {
   "cell_type": "markdown",
   "metadata": {},
   "source": [
    "<hr style=\"border:0.02in solid gray\"> </hr>"
   ]
  },
  {
   "cell_type": "markdown",
   "metadata": {},
   "source": [
    "# <font color= #6B6B6B> 2. Install/Load Packages and Depedencies </font>"
   ]
  },
  {
   "cell_type": "markdown",
   "metadata": {},
   "source": [
    "<hr style=\"border:0.02in solid gray\"> </hr>"
   ]
  },
  {
   "cell_type": "code",
   "execution_count": 4,
   "metadata": {},
   "outputs": [],
   "source": [
    "import numpy as np\n",
    "import pandas as pd\n",
    "\n",
    "import datetime \n",
    "import time\n",
    "\n",
    "\n",
    "pd.set_option('display.float_format', '{:.4f}'.format)\n",
    "pd.set_option('display.float_format', '{:.7f}'.format)"
   ]
  },
  {
   "cell_type": "markdown",
   "metadata": {},
   "source": [
    "<br>"
   ]
  },
  {
   "cell_type": "markdown",
   "metadata": {},
   "source": [
    "<hr style=\"border:0.02in solid gray\"> </hr>"
   ]
  },
  {
   "cell_type": "markdown",
   "metadata": {},
   "source": [
    "## <font color= #6B6B6B> 2.2 Python Packages </font> <font color= #555555>"
   ]
  },
  {
   "cell_type": "markdown",
   "metadata": {},
   "source": [
    "<hr style=\"border:0.02in solid gray\"> </hr>"
   ]
  },
  {
   "cell_type": "markdown",
   "metadata": {},
   "source": [
    "In order to run this notebook, it is necessary to have installed and/or have the _requirements.txt_ file with the following: "
   ]
  },
  {
   "cell_type": "markdown",
   "metadata": {},
   "source": [
    "- pandas>=1.1.1 \n",
    "- numpy>=1.19.1\n",
    "- jupyter>=1.0.0\n",
    "- _Add any other here_"
   ]
  },
  {
   "cell_type": "markdown",
   "metadata": {},
   "source": [
    "<hr style=\"border:0.02in solid gray\"> </hr>"
   ]
  },
  {
   "cell_type": "markdown",
   "metadata": {},
   "source": [
    "## <font color= #6B6B6B> 2.3 Files Dependencies </font> <font color= #555555>"
   ]
  },
  {
   "cell_type": "markdown",
   "metadata": {},
   "source": [
    "<hr style=\"border:0.02in solid gray\"> </hr>"
   ]
  },
  {
   "cell_type": "markdown",
   "metadata": {},
   "source": [
    "The following are the file dependencies that are needed to run this notebook:"
   ]
  },
  {
   "cell_type": "markdown",
   "metadata": {},
   "source": [
    "- files/precios.csv : Precios históricos\n",
    "- files/datos.txt : Otros datos históricos"
   ]
  },
  {
   "cell_type": "markdown",
   "metadata": {},
   "source": [
    "<br>"
   ]
  },
  {
   "cell_type": "markdown",
   "metadata": {},
   "source": [
    "<hr style=\"border:0.02in solid gray\"> </hr>"
   ]
  },
  {
   "cell_type": "markdown",
   "metadata": {},
   "source": [
    "# <font color= #6B6B6B> 3. Data Description </font>"
   ]
  },
  {
   "cell_type": "markdown",
   "metadata": {},
   "source": [
    "<hr style=\"border:0.02in solid gray\"> </hr>"
   ]
  },
  {
   "cell_type": "code",
   "execution_count": 165,
   "metadata": {},
   "outputs": [],
   "source": [
    "def f_pip_size(param_ins):  \n",
    "    data_pips = f_leer_archivo(\"files/instruments_pips.csv\")\n",
    "    piprow = data_pips.loc[data_pips[\"Instrument\"] == param_ins]\n",
    "    pipsize = 1/piprow[\"TickSize\"]\n",
    "    return pipsize"
   ]
  },
  {
   "cell_type": "code",
   "execution_count": 140,
   "metadata": {},
   "outputs": [],
   "source": [
    "def f_columnas_tiempos(param_data):\n",
    "    hd = param_data\n",
    "    hd[\"Time\"] = pd.to_datetime(hd[\"Time\"])\n",
    "    hd[\"Time.1\"] = pd.to_datetime(hd[\"Time.1\"])\n",
    "    hd[\"Time3\"] = hd[\"Time.1\"] - hd[\"Time\"]\n",
    "    hd[\"Time3\"] = hd[\"Time3\"].dt.total_seconds()\n",
    "    hd = hd.rename(columns = {\"Time\" : \"Open Time\",\"Time.1\" : \"Close Time\", \"Time3\" : \"Tiempo\", \"Price\" : \"Open Price\", \"Price.1\" : \"Close Price\" })\n",
    "    return hd"
   ]
  },
  {
   "cell_type": "code",
   "execution_count": 141,
   "metadata": {},
   "outputs": [],
   "source": [
    "k = f_leer_archivo(\"files/historical_data.csv\")"
   ]
  },
  {
   "cell_type": "code",
   "execution_count": 160,
   "metadata": {},
   "outputs": [],
   "source": [
    "k2 = f_columnas_tiempos(k)"
   ]
  },
  {
   "cell_type": "code",
   "execution_count": 143,
   "metadata": {},
   "outputs": [
    {
     "data": {
      "text/html": [
       "<div>\n",
       "<style scoped>\n",
       "    .dataframe tbody tr th:only-of-type {\n",
       "        vertical-align: middle;\n",
       "    }\n",
       "\n",
       "    .dataframe tbody tr th {\n",
       "        vertical-align: top;\n",
       "    }\n",
       "\n",
       "    .dataframe thead th {\n",
       "        text-align: right;\n",
       "    }\n",
       "</style>\n",
       "<table border=\"1\" class=\"dataframe\">\n",
       "  <thead>\n",
       "    <tr style=\"text-align: right;\">\n",
       "      <th></th>\n",
       "      <th>Open Time</th>\n",
       "      <th>Position</th>\n",
       "      <th>Symbol</th>\n",
       "      <th>Type</th>\n",
       "      <th>Volume</th>\n",
       "      <th>Open Price</th>\n",
       "      <th>S / L</th>\n",
       "      <th>T / P</th>\n",
       "      <th>Close Time</th>\n",
       "      <th>Close Price</th>\n",
       "      <th>Commission</th>\n",
       "      <th>Swap</th>\n",
       "      <th>Profit</th>\n",
       "      <th>Tiempo</th>\n",
       "    </tr>\n",
       "  </thead>\n",
       "  <tbody>\n",
       "    <tr>\n",
       "      <th>0</th>\n",
       "      <td>2021-06-08 16:59:03</td>\n",
       "      <td>41566725</td>\n",
       "      <td>BTCUSD</td>\n",
       "      <td>buy</td>\n",
       "      <td>5</td>\n",
       "      <td>32549.5500000</td>\n",
       "      <td>31000.0000000</td>\n",
       "      <td>44000.0000000</td>\n",
       "      <td>2021-06-09 15:26:09</td>\n",
       "      <td>35154.7000000</td>\n",
       "      <td>0</td>\n",
       "      <td>-93.3200000</td>\n",
       "      <td>13025.7500000</td>\n",
       "      <td>80826.0000000</td>\n",
       "    </tr>\n",
       "    <tr>\n",
       "      <th>1</th>\n",
       "      <td>2021-06-08 16:59:57</td>\n",
       "      <td>41566764</td>\n",
       "      <td>ETHUSD</td>\n",
       "      <td>buy</td>\n",
       "      <td>5</td>\n",
       "      <td>2439.8500000</td>\n",
       "      <td>2305.7400000</td>\n",
       "      <td>2750.0000000</td>\n",
       "      <td>2021-06-09 15:26:15</td>\n",
       "      <td>2555.4500000</td>\n",
       "      <td>0</td>\n",
       "      <td>-70.3800000</td>\n",
       "      <td>5780.0000000</td>\n",
       "      <td>80778.0000000</td>\n",
       "    </tr>\n",
       "    <tr>\n",
       "      <th>2</th>\n",
       "      <td>2021-06-08 17:00:25</td>\n",
       "      <td>41566822</td>\n",
       "      <td>IOTUSD</td>\n",
       "      <td>buy</td>\n",
       "      <td>70</td>\n",
       "      <td>1.1341000</td>\n",
       "      <td>0.8000000</td>\n",
       "      <td>2.0000000</td>\n",
       "      <td>2021-06-15 21:43:11</td>\n",
       "      <td>1.1335000</td>\n",
       "      <td>0</td>\n",
       "      <td>-271.1500000</td>\n",
       "      <td>-40.5000000</td>\n",
       "      <td>621766.0000000</td>\n",
       "    </tr>\n",
       "  </tbody>\n",
       "</table>\n",
       "</div>"
      ],
      "text/plain": [
       "            Open Time  Position  Symbol Type  Volume    Open Price  \\\n",
       "0 2021-06-08 16:59:03  41566725  BTCUSD  buy       5 32549.5500000   \n",
       "1 2021-06-08 16:59:57  41566764  ETHUSD  buy       5  2439.8500000   \n",
       "2 2021-06-08 17:00:25  41566822  IOTUSD  buy      70     1.1341000   \n",
       "\n",
       "          S / L         T / P          Close Time   Close Price  Commission  \\\n",
       "0 31000.0000000 44000.0000000 2021-06-09 15:26:09 35154.7000000           0   \n",
       "1  2305.7400000  2750.0000000 2021-06-09 15:26:15  2555.4500000           0   \n",
       "2     0.8000000     2.0000000 2021-06-15 21:43:11     1.1335000           0   \n",
       "\n",
       "          Swap        Profit         Tiempo  \n",
       "0  -93.3200000 13025.7500000  80826.0000000  \n",
       "1  -70.3800000  5780.0000000  80778.0000000  \n",
       "2 -271.1500000   -40.5000000 621766.0000000  "
      ]
     },
     "execution_count": 143,
     "metadata": {},
     "output_type": "execute_result"
    }
   ],
   "source": [
    "k2.head(3)"
   ]
  },
  {
   "cell_type": "code",
   "execution_count": 154,
   "metadata": {},
   "outputs": [
    {
     "data": {
      "text/html": [
       "<div>\n",
       "<style scoped>\n",
       "    .dataframe tbody tr th:only-of-type {\n",
       "        vertical-align: middle;\n",
       "    }\n",
       "\n",
       "    .dataframe tbody tr th {\n",
       "        vertical-align: top;\n",
       "    }\n",
       "\n",
       "    .dataframe thead th {\n",
       "        text-align: right;\n",
       "    }\n",
       "</style>\n",
       "<table border=\"1\" class=\"dataframe\">\n",
       "  <thead>\n",
       "    <tr style=\"text-align: right;\">\n",
       "      <th></th>\n",
       "      <th>Open Time</th>\n",
       "      <th>Position</th>\n",
       "      <th>Symbol</th>\n",
       "      <th>Type</th>\n",
       "      <th>Volume</th>\n",
       "      <th>Open Price</th>\n",
       "      <th>S / L</th>\n",
       "      <th>T / P</th>\n",
       "      <th>Close Time</th>\n",
       "      <th>Close Price</th>\n",
       "      <th>Commission</th>\n",
       "      <th>Swap</th>\n",
       "      <th>Profit</th>\n",
       "      <th>Tiempo</th>\n",
       "    </tr>\n",
       "  </thead>\n",
       "  <tbody>\n",
       "    <tr>\n",
       "      <th>6</th>\n",
       "      <td>2021-06-14 02:21:10</td>\n",
       "      <td>41704116</td>\n",
       "      <td>LNKUSD</td>\n",
       "      <td>buy</td>\n",
       "      <td>15</td>\n",
       "      <td>23.3330000</td>\n",
       "      <td>17.1740000</td>\n",
       "      <td>32.5790000</td>\n",
       "      <td>2021-06-15 15:30:53</td>\n",
       "      <td>25.8130000</td>\n",
       "      <td>0</td>\n",
       "      <td>-20.1000000</td>\n",
       "      <td>3720.0000000</td>\n",
       "      <td>133783.0000000</td>\n",
       "    </tr>\n",
       "    <tr>\n",
       "      <th>7</th>\n",
       "      <td>2021-06-15 01:40:28</td>\n",
       "      <td>41738082</td>\n",
       "      <td>BTCUSD</td>\n",
       "      <td>buy</td>\n",
       "      <td>5</td>\n",
       "      <td>40284.2200000</td>\n",
       "      <td>39000.0000000</td>\n",
       "      <td>42000.0000000</td>\n",
       "      <td>2021-06-16 03:48:13</td>\n",
       "      <td>40003.6000000</td>\n",
       "      <td>0</td>\n",
       "      <td>-110.8500000</td>\n",
       "      <td>-1403.1000000</td>\n",
       "      <td>94065.0000000</td>\n",
       "    </tr>\n",
       "    <tr>\n",
       "      <th>8</th>\n",
       "      <td>2021-06-16 01:34:21</td>\n",
       "      <td>41779302</td>\n",
       "      <td>LTCUSD</td>\n",
       "      <td>buy</td>\n",
       "      <td>5</td>\n",
       "      <td>175.1100000</td>\n",
       "      <td>150.0000000</td>\n",
       "      <td>225.0000000</td>\n",
       "      <td>2021-06-16 03:48:07</td>\n",
       "      <td>175.4700000</td>\n",
       "      <td>0</td>\n",
       "      <td>0.0000000</td>\n",
       "      <td>180.0000000</td>\n",
       "      <td>8026.0000000</td>\n",
       "    </tr>\n",
       "  </tbody>\n",
       "</table>\n",
       "</div>"
      ],
      "text/plain": [
       "            Open Time  Position  Symbol Type  Volume    Open Price  \\\n",
       "6 2021-06-14 02:21:10  41704116  LNKUSD  buy      15    23.3330000   \n",
       "7 2021-06-15 01:40:28  41738082  BTCUSD  buy       5 40284.2200000   \n",
       "8 2021-06-16 01:34:21  41779302  LTCUSD  buy       5   175.1100000   \n",
       "\n",
       "          S / L         T / P          Close Time   Close Price  Commission  \\\n",
       "6    17.1740000    32.5790000 2021-06-15 15:30:53    25.8130000           0   \n",
       "7 39000.0000000 42000.0000000 2021-06-16 03:48:13 40003.6000000           0   \n",
       "8   150.0000000   225.0000000 2021-06-16 03:48:07   175.4700000           0   \n",
       "\n",
       "          Swap        Profit         Tiempo  \n",
       "6  -20.1000000  3720.0000000 133783.0000000  \n",
       "7 -110.8500000 -1403.1000000  94065.0000000  \n",
       "8    0.0000000   180.0000000   8026.0000000  "
      ]
     },
     "execution_count": 154,
     "metadata": {},
     "output_type": "execute_result"
    }
   ],
   "source": [
    "k2.tail(3)"
   ]
  },
  {
   "cell_type": "code",
   "execution_count": 172,
   "metadata": {},
   "outputs": [
    {
     "data": {
      "text/html": [
       "<div>\n",
       "<style scoped>\n",
       "    .dataframe tbody tr th:only-of-type {\n",
       "        vertical-align: middle;\n",
       "    }\n",
       "\n",
       "    .dataframe tbody tr th {\n",
       "        vertical-align: top;\n",
       "    }\n",
       "\n",
       "    .dataframe thead th {\n",
       "        text-align: right;\n",
       "    }\n",
       "</style>\n",
       "<table border=\"1\" class=\"dataframe\">\n",
       "  <thead>\n",
       "    <tr style=\"text-align: right;\">\n",
       "      <th></th>\n",
       "      <th>Open Time</th>\n",
       "      <th>Position</th>\n",
       "      <th>Symbol</th>\n",
       "      <th>Type</th>\n",
       "      <th>Volume</th>\n",
       "      <th>Open Price</th>\n",
       "      <th>S / L</th>\n",
       "      <th>T / P</th>\n",
       "      <th>Close Time</th>\n",
       "      <th>Close Price</th>\n",
       "      <th>Commission</th>\n",
       "      <th>Swap</th>\n",
       "      <th>Profit</th>\n",
       "      <th>Tiempo</th>\n",
       "    </tr>\n",
       "  </thead>\n",
       "  <tbody>\n",
       "    <tr>\n",
       "      <th>0</th>\n",
       "      <td>2021-06-08 16:59:03</td>\n",
       "      <td>41566725</td>\n",
       "      <td>BTCUSD</td>\n",
       "      <td>buy</td>\n",
       "      <td>5</td>\n",
       "      <td>32549.5500000</td>\n",
       "      <td>31000.0000000</td>\n",
       "      <td>44000.0000000</td>\n",
       "      <td>2021-06-09 15:26:09</td>\n",
       "      <td>35154.7000000</td>\n",
       "      <td>0</td>\n",
       "      <td>-93.3200000</td>\n",
       "      <td>13025.7500000</td>\n",
       "      <td>80826.0000000</td>\n",
       "    </tr>\n",
       "    <tr>\n",
       "      <th>1</th>\n",
       "      <td>2021-06-08 16:59:57</td>\n",
       "      <td>41566764</td>\n",
       "      <td>ETHUSD</td>\n",
       "      <td>buy</td>\n",
       "      <td>5</td>\n",
       "      <td>2439.8500000</td>\n",
       "      <td>2305.7400000</td>\n",
       "      <td>2750.0000000</td>\n",
       "      <td>2021-06-09 15:26:15</td>\n",
       "      <td>2555.4500000</td>\n",
       "      <td>0</td>\n",
       "      <td>-70.3800000</td>\n",
       "      <td>5780.0000000</td>\n",
       "      <td>80778.0000000</td>\n",
       "    </tr>\n",
       "    <tr>\n",
       "      <th>2</th>\n",
       "      <td>2021-06-08 17:00:25</td>\n",
       "      <td>41566822</td>\n",
       "      <td>IOTUSD</td>\n",
       "      <td>buy</td>\n",
       "      <td>70</td>\n",
       "      <td>1.1341000</td>\n",
       "      <td>0.8000000</td>\n",
       "      <td>2.0000000</td>\n",
       "      <td>2021-06-15 21:43:11</td>\n",
       "      <td>1.1335000</td>\n",
       "      <td>0</td>\n",
       "      <td>-271.1500000</td>\n",
       "      <td>-40.5000000</td>\n",
       "      <td>621766.0000000</td>\n",
       "    </tr>\n",
       "    <tr>\n",
       "      <th>3</th>\n",
       "      <td>2021-06-09 16:03:05</td>\n",
       "      <td>41597784</td>\n",
       "      <td>BTCUSD</td>\n",
       "      <td>buy</td>\n",
       "      <td>10</td>\n",
       "      <td>34875.7000000</td>\n",
       "      <td>31000.0000000</td>\n",
       "      <td>44000.0000000</td>\n",
       "      <td>2021-06-10 15:09:44</td>\n",
       "      <td>37703.7000000</td>\n",
       "      <td>0</td>\n",
       "      <td>-201.9900000</td>\n",
       "      <td>28280.0000000</td>\n",
       "      <td>83199.0000000</td>\n",
       "    </tr>\n",
       "    <tr>\n",
       "      <th>4</th>\n",
       "      <td>2021-06-10 15:10:20</td>\n",
       "      <td>41636832</td>\n",
       "      <td>ETHUSD</td>\n",
       "      <td>buy</td>\n",
       "      <td>25</td>\n",
       "      <td>2559.0300000</td>\n",
       "      <td>1998.5800000</td>\n",
       "      <td>3556.6800000</td>\n",
       "      <td>2021-06-15 15:31:25</td>\n",
       "      <td>2584.7400000</td>\n",
       "      <td>0</td>\n",
       "      <td>-1687.1900000</td>\n",
       "      <td>6428.0000000</td>\n",
       "      <td>433265.0000000</td>\n",
       "    </tr>\n",
       "    <tr>\n",
       "      <th>5</th>\n",
       "      <td>2021-06-11 16:02:36</td>\n",
       "      <td>41686753</td>\n",
       "      <td>XLMUSD</td>\n",
       "      <td>buy</td>\n",
       "      <td>20</td>\n",
       "      <td>0.3383300</td>\n",
       "      <td>0.3000000</td>\n",
       "      <td>0.4000000</td>\n",
       "      <td>2021-06-15 15:31:46</td>\n",
       "      <td>0.3389300</td>\n",
       "      <td>0</td>\n",
       "      <td>-72.1600000</td>\n",
       "      <td>120.5000000</td>\n",
       "      <td>343750.0000000</td>\n",
       "    </tr>\n",
       "    <tr>\n",
       "      <th>6</th>\n",
       "      <td>2021-06-14 02:21:10</td>\n",
       "      <td>41704116</td>\n",
       "      <td>LNKUSD</td>\n",
       "      <td>buy</td>\n",
       "      <td>15</td>\n",
       "      <td>23.3330000</td>\n",
       "      <td>17.1740000</td>\n",
       "      <td>32.5790000</td>\n",
       "      <td>2021-06-15 15:30:53</td>\n",
       "      <td>25.8130000</td>\n",
       "      <td>0</td>\n",
       "      <td>-20.1000000</td>\n",
       "      <td>3720.0000000</td>\n",
       "      <td>133783.0000000</td>\n",
       "    </tr>\n",
       "    <tr>\n",
       "      <th>7</th>\n",
       "      <td>2021-06-15 01:40:28</td>\n",
       "      <td>41738082</td>\n",
       "      <td>BTCUSD</td>\n",
       "      <td>buy</td>\n",
       "      <td>5</td>\n",
       "      <td>40284.2200000</td>\n",
       "      <td>39000.0000000</td>\n",
       "      <td>42000.0000000</td>\n",
       "      <td>2021-06-16 03:48:13</td>\n",
       "      <td>40003.6000000</td>\n",
       "      <td>0</td>\n",
       "      <td>-110.8500000</td>\n",
       "      <td>-1403.1000000</td>\n",
       "      <td>94065.0000000</td>\n",
       "    </tr>\n",
       "    <tr>\n",
       "      <th>8</th>\n",
       "      <td>2021-06-16 01:34:21</td>\n",
       "      <td>41779302</td>\n",
       "      <td>LTCUSD</td>\n",
       "      <td>buy</td>\n",
       "      <td>5</td>\n",
       "      <td>175.1100000</td>\n",
       "      <td>150.0000000</td>\n",
       "      <td>225.0000000</td>\n",
       "      <td>2021-06-16 03:48:07</td>\n",
       "      <td>175.4700000</td>\n",
       "      <td>0</td>\n",
       "      <td>0.0000000</td>\n",
       "      <td>180.0000000</td>\n",
       "      <td>8026.0000000</td>\n",
       "    </tr>\n",
       "  </tbody>\n",
       "</table>\n",
       "</div>"
      ],
      "text/plain": [
       "            Open Time  Position  Symbol Type  Volume    Open Price  \\\n",
       "0 2021-06-08 16:59:03  41566725  BTCUSD  buy       5 32549.5500000   \n",
       "1 2021-06-08 16:59:57  41566764  ETHUSD  buy       5  2439.8500000   \n",
       "2 2021-06-08 17:00:25  41566822  IOTUSD  buy      70     1.1341000   \n",
       "3 2021-06-09 16:03:05  41597784  BTCUSD  buy      10 34875.7000000   \n",
       "4 2021-06-10 15:10:20  41636832  ETHUSD  buy      25  2559.0300000   \n",
       "5 2021-06-11 16:02:36  41686753  XLMUSD  buy      20     0.3383300   \n",
       "6 2021-06-14 02:21:10  41704116  LNKUSD  buy      15    23.3330000   \n",
       "7 2021-06-15 01:40:28  41738082  BTCUSD  buy       5 40284.2200000   \n",
       "8 2021-06-16 01:34:21  41779302  LTCUSD  buy       5   175.1100000   \n",
       "\n",
       "          S / L         T / P          Close Time   Close Price  Commission  \\\n",
       "0 31000.0000000 44000.0000000 2021-06-09 15:26:09 35154.7000000           0   \n",
       "1  2305.7400000  2750.0000000 2021-06-09 15:26:15  2555.4500000           0   \n",
       "2     0.8000000     2.0000000 2021-06-15 21:43:11     1.1335000           0   \n",
       "3 31000.0000000 44000.0000000 2021-06-10 15:09:44 37703.7000000           0   \n",
       "4  1998.5800000  3556.6800000 2021-06-15 15:31:25  2584.7400000           0   \n",
       "5     0.3000000     0.4000000 2021-06-15 15:31:46     0.3389300           0   \n",
       "6    17.1740000    32.5790000 2021-06-15 15:30:53    25.8130000           0   \n",
       "7 39000.0000000 42000.0000000 2021-06-16 03:48:13 40003.6000000           0   \n",
       "8   150.0000000   225.0000000 2021-06-16 03:48:07   175.4700000           0   \n",
       "\n",
       "           Swap        Profit         Tiempo  \n",
       "0   -93.3200000 13025.7500000  80826.0000000  \n",
       "1   -70.3800000  5780.0000000  80778.0000000  \n",
       "2  -271.1500000   -40.5000000 621766.0000000  \n",
       "3  -201.9900000 28280.0000000  83199.0000000  \n",
       "4 -1687.1900000  6428.0000000 433265.0000000  \n",
       "5   -72.1600000   120.5000000 343750.0000000  \n",
       "6   -20.1000000  3720.0000000 133783.0000000  \n",
       "7  -110.8500000 -1403.1000000  94065.0000000  \n",
       "8     0.0000000   180.0000000   8026.0000000  "
      ]
     },
     "execution_count": 172,
     "metadata": {},
     "output_type": "execute_result"
    }
   ],
   "source": [
    "k2"
   ]
  },
  {
   "cell_type": "code",
   "execution_count": 167,
   "metadata": {},
   "outputs": [],
   "source": [
    "def pips(df):\n",
    "    data_pips = f_leer_archivo(\"files/instruments_pips.csv\")\n",
    "    piprow = data_pips.loc[data_pips[\"Instrument\"] == df[\"Symbol\"]]\n",
    "    df[\"Pips\"] = 1/piprow[\"TickSize\"]\n",
    "    return df"
   ]
  },
  {
   "cell_type": "code",
   "execution_count": 173,
   "metadata": {},
   "outputs": [
    {
     "data": {
      "text/plain": [
       "0    BTCUSD\n",
       "1    ETHUSD\n",
       "2    IOTUSD\n",
       "3    BTCUSD\n",
       "4    ETHUSD\n",
       "5    XLMUSD\n",
       "6    LNKUSD\n",
       "7    BTCUSD\n",
       "8    LTCUSD\n",
       "Name: Symbol, dtype: object"
      ]
     },
     "execution_count": 173,
     "metadata": {},
     "output_type": "execute_result"
    }
   ],
   "source": [
    "for x in range(8):\n",
    "    k3 = k2[\"Symbol\"]"
   ]
  },
  {
   "cell_type": "code",
   "execution_count": 203,
   "metadata": {},
   "outputs": [
    {
     "name": "stdout",
     "output_type": "stream",
     "text": [
      "[100.0, 100.0, 10000.0, 100.0, 100.0, 99999.99999999999, 1000.0, 100.0, 100.0]\n"
     ]
    }
   ],
   "source": [
    "rows = []\n",
    "for x in range(9):\n",
    "    rows.append(float(f_pip_size(k2.loc[x, \"Symbol\"])))\n",
    "    \n",
    "pipnum = pd.DataFrame(rows, columns=[\"A\"])\n",
    "\n"
   ]
  },
  {
   "cell_type": "code",
   "execution_count": 209,
   "metadata": {},
   "outputs": [
    {
     "data": {
      "text/html": [
       "<div>\n",
       "<style scoped>\n",
       "    .dataframe tbody tr th:only-of-type {\n",
       "        vertical-align: middle;\n",
       "    }\n",
       "\n",
       "    .dataframe tbody tr th {\n",
       "        vertical-align: top;\n",
       "    }\n",
       "\n",
       "    .dataframe thead th {\n",
       "        text-align: right;\n",
       "    }\n",
       "</style>\n",
       "<table border=\"1\" class=\"dataframe\">\n",
       "  <thead>\n",
       "    <tr style=\"text-align: right;\">\n",
       "      <th></th>\n",
       "      <th>A</th>\n",
       "    </tr>\n",
       "  </thead>\n",
       "  <tbody>\n",
       "    <tr>\n",
       "      <th>0</th>\n",
       "      <td>100.0000000</td>\n",
       "    </tr>\n",
       "    <tr>\n",
       "      <th>1</th>\n",
       "      <td>100.0000000</td>\n",
       "    </tr>\n",
       "    <tr>\n",
       "      <th>2</th>\n",
       "      <td>10000.0000000</td>\n",
       "    </tr>\n",
       "    <tr>\n",
       "      <th>3</th>\n",
       "      <td>100.0000000</td>\n",
       "    </tr>\n",
       "    <tr>\n",
       "      <th>4</th>\n",
       "      <td>100.0000000</td>\n",
       "    </tr>\n",
       "    <tr>\n",
       "      <th>5</th>\n",
       "      <td>100000.0000000</td>\n",
       "    </tr>\n",
       "    <tr>\n",
       "      <th>6</th>\n",
       "      <td>1000.0000000</td>\n",
       "    </tr>\n",
       "    <tr>\n",
       "      <th>7</th>\n",
       "      <td>100.0000000</td>\n",
       "    </tr>\n",
       "    <tr>\n",
       "      <th>8</th>\n",
       "      <td>100.0000000</td>\n",
       "    </tr>\n",
       "  </tbody>\n",
       "</table>\n",
       "</div>"
      ],
      "text/plain": [
       "               A\n",
       "0    100.0000000\n",
       "1    100.0000000\n",
       "2  10000.0000000\n",
       "3    100.0000000\n",
       "4    100.0000000\n",
       "5 100000.0000000\n",
       "6   1000.0000000\n",
       "7    100.0000000\n",
       "8    100.0000000"
      ]
     },
     "execution_count": 209,
     "metadata": {},
     "output_type": "execute_result"
    }
   ],
   "source": [
    "df = pd.DataFrame(rows, columns=[\"A\"])\n",
    "df"
   ]
  },
  {
   "cell_type": "code",
   "execution_count": 217,
   "metadata": {},
   "outputs": [
    {
     "data": {
      "text/plain": [
       "9"
      ]
     },
     "execution_count": 217,
     "metadata": {},
     "output_type": "execute_result"
    }
   ],
   "source": [
    "len(k2)"
   ]
  },
  {
   "cell_type": "code",
   "execution_count": 215,
   "metadata": {},
   "outputs": [],
   "source": [
    "k2[\"Pips\"] = (k2[\"Close Price\"] - k2[\"Open Price\"])*(df['A'])"
   ]
  },
  {
   "cell_type": "code",
   "execution_count": 218,
   "metadata": {},
   "outputs": [
    {
     "data": {
      "text/html": [
       "<div>\n",
       "<style scoped>\n",
       "    .dataframe tbody tr th:only-of-type {\n",
       "        vertical-align: middle;\n",
       "    }\n",
       "\n",
       "    .dataframe tbody tr th {\n",
       "        vertical-align: top;\n",
       "    }\n",
       "\n",
       "    .dataframe thead th {\n",
       "        text-align: right;\n",
       "    }\n",
       "</style>\n",
       "<table border=\"1\" class=\"dataframe\">\n",
       "  <thead>\n",
       "    <tr style=\"text-align: right;\">\n",
       "      <th></th>\n",
       "      <th>Open Time</th>\n",
       "      <th>Position</th>\n",
       "      <th>Symbol</th>\n",
       "      <th>Type</th>\n",
       "      <th>Volume</th>\n",
       "      <th>Open Price</th>\n",
       "      <th>S / L</th>\n",
       "      <th>T / P</th>\n",
       "      <th>Close Time</th>\n",
       "      <th>Close Price</th>\n",
       "      <th>Commission</th>\n",
       "      <th>Swap</th>\n",
       "      <th>Profit</th>\n",
       "      <th>Tiempo</th>\n",
       "      <th>Pips</th>\n",
       "    </tr>\n",
       "  </thead>\n",
       "  <tbody>\n",
       "    <tr>\n",
       "      <th>0</th>\n",
       "      <td>2021-06-08 16:59:03</td>\n",
       "      <td>41566725</td>\n",
       "      <td>BTCUSD</td>\n",
       "      <td>buy</td>\n",
       "      <td>5</td>\n",
       "      <td>32549.5500000</td>\n",
       "      <td>31000.0000000</td>\n",
       "      <td>44000.0000000</td>\n",
       "      <td>2021-06-09 15:26:09</td>\n",
       "      <td>35154.7000000</td>\n",
       "      <td>0</td>\n",
       "      <td>-93.3200000</td>\n",
       "      <td>13025.7500000</td>\n",
       "      <td>80826.0000000</td>\n",
       "      <td>260515.0000000</td>\n",
       "    </tr>\n",
       "    <tr>\n",
       "      <th>1</th>\n",
       "      <td>2021-06-08 16:59:57</td>\n",
       "      <td>41566764</td>\n",
       "      <td>ETHUSD</td>\n",
       "      <td>buy</td>\n",
       "      <td>5</td>\n",
       "      <td>2439.8500000</td>\n",
       "      <td>2305.7400000</td>\n",
       "      <td>2750.0000000</td>\n",
       "      <td>2021-06-09 15:26:15</td>\n",
       "      <td>2555.4500000</td>\n",
       "      <td>0</td>\n",
       "      <td>-70.3800000</td>\n",
       "      <td>5780.0000000</td>\n",
       "      <td>80778.0000000</td>\n",
       "      <td>11560.0000000</td>\n",
       "    </tr>\n",
       "    <tr>\n",
       "      <th>2</th>\n",
       "      <td>2021-06-08 17:00:25</td>\n",
       "      <td>41566822</td>\n",
       "      <td>IOTUSD</td>\n",
       "      <td>buy</td>\n",
       "      <td>70</td>\n",
       "      <td>1.1341000</td>\n",
       "      <td>0.8000000</td>\n",
       "      <td>2.0000000</td>\n",
       "      <td>2021-06-15 21:43:11</td>\n",
       "      <td>1.1335000</td>\n",
       "      <td>0</td>\n",
       "      <td>-271.1500000</td>\n",
       "      <td>-40.5000000</td>\n",
       "      <td>621766.0000000</td>\n",
       "      <td>-6.0000000</td>\n",
       "    </tr>\n",
       "  </tbody>\n",
       "</table>\n",
       "</div>"
      ],
      "text/plain": [
       "            Open Time  Position  Symbol Type  Volume    Open Price  \\\n",
       "0 2021-06-08 16:59:03  41566725  BTCUSD  buy       5 32549.5500000   \n",
       "1 2021-06-08 16:59:57  41566764  ETHUSD  buy       5  2439.8500000   \n",
       "2 2021-06-08 17:00:25  41566822  IOTUSD  buy      70     1.1341000   \n",
       "\n",
       "          S / L         T / P          Close Time   Close Price  Commission  \\\n",
       "0 31000.0000000 44000.0000000 2021-06-09 15:26:09 35154.7000000           0   \n",
       "1  2305.7400000  2750.0000000 2021-06-09 15:26:15  2555.4500000           0   \n",
       "2     0.8000000     2.0000000 2021-06-15 21:43:11     1.1335000           0   \n",
       "\n",
       "          Swap        Profit         Tiempo           Pips  \n",
       "0  -93.3200000 13025.7500000  80826.0000000 260515.0000000  \n",
       "1  -70.3800000  5780.0000000  80778.0000000  11560.0000000  \n",
       "2 -271.1500000   -40.5000000 621766.0000000     -6.0000000  "
      ]
     },
     "execution_count": 218,
     "metadata": {},
     "output_type": "execute_result"
    }
   ],
   "source": [
    "k2.head(3)"
   ]
  },
  {
   "cell_type": "code",
   "execution_count": null,
   "metadata": {},
   "outputs": [],
   "source": []
  },
  {
   "cell_type": "code",
   "execution_count": 216,
   "metadata": {},
   "outputs": [
    {
     "data": {
      "text/html": [
       "<div>\n",
       "<style scoped>\n",
       "    .dataframe tbody tr th:only-of-type {\n",
       "        vertical-align: middle;\n",
       "    }\n",
       "\n",
       "    .dataframe tbody tr th {\n",
       "        vertical-align: top;\n",
       "    }\n",
       "\n",
       "    .dataframe thead th {\n",
       "        text-align: right;\n",
       "    }\n",
       "</style>\n",
       "<table border=\"1\" class=\"dataframe\">\n",
       "  <thead>\n",
       "    <tr style=\"text-align: right;\">\n",
       "      <th></th>\n",
       "      <th>Open Time</th>\n",
       "      <th>Position</th>\n",
       "      <th>Symbol</th>\n",
       "      <th>Type</th>\n",
       "      <th>Volume</th>\n",
       "      <th>Open Price</th>\n",
       "      <th>S / L</th>\n",
       "      <th>T / P</th>\n",
       "      <th>Close Time</th>\n",
       "      <th>Close Price</th>\n",
       "      <th>Commission</th>\n",
       "      <th>Swap</th>\n",
       "      <th>Profit</th>\n",
       "      <th>Tiempo</th>\n",
       "      <th>Pips</th>\n",
       "    </tr>\n",
       "  </thead>\n",
       "  <tbody>\n",
       "    <tr>\n",
       "      <th>0</th>\n",
       "      <td>2021-06-08 16:59:03</td>\n",
       "      <td>41566725</td>\n",
       "      <td>BTCUSD</td>\n",
       "      <td>buy</td>\n",
       "      <td>5</td>\n",
       "      <td>32549.5500000</td>\n",
       "      <td>31000.0000000</td>\n",
       "      <td>44000.0000000</td>\n",
       "      <td>2021-06-09 15:26:09</td>\n",
       "      <td>35154.7000000</td>\n",
       "      <td>0</td>\n",
       "      <td>-93.3200000</td>\n",
       "      <td>13025.7500000</td>\n",
       "      <td>80826.0000000</td>\n",
       "      <td>260515.0000000</td>\n",
       "    </tr>\n",
       "    <tr>\n",
       "      <th>1</th>\n",
       "      <td>2021-06-08 16:59:57</td>\n",
       "      <td>41566764</td>\n",
       "      <td>ETHUSD</td>\n",
       "      <td>buy</td>\n",
       "      <td>5</td>\n",
       "      <td>2439.8500000</td>\n",
       "      <td>2305.7400000</td>\n",
       "      <td>2750.0000000</td>\n",
       "      <td>2021-06-09 15:26:15</td>\n",
       "      <td>2555.4500000</td>\n",
       "      <td>0</td>\n",
       "      <td>-70.3800000</td>\n",
       "      <td>5780.0000000</td>\n",
       "      <td>80778.0000000</td>\n",
       "      <td>11560.0000000</td>\n",
       "    </tr>\n",
       "    <tr>\n",
       "      <th>2</th>\n",
       "      <td>2021-06-08 17:00:25</td>\n",
       "      <td>41566822</td>\n",
       "      <td>IOTUSD</td>\n",
       "      <td>buy</td>\n",
       "      <td>70</td>\n",
       "      <td>1.1341000</td>\n",
       "      <td>0.8000000</td>\n",
       "      <td>2.0000000</td>\n",
       "      <td>2021-06-15 21:43:11</td>\n",
       "      <td>1.1335000</td>\n",
       "      <td>0</td>\n",
       "      <td>-271.1500000</td>\n",
       "      <td>-40.5000000</td>\n",
       "      <td>621766.0000000</td>\n",
       "      <td>-6.0000000</td>\n",
       "    </tr>\n",
       "    <tr>\n",
       "      <th>3</th>\n",
       "      <td>2021-06-09 16:03:05</td>\n",
       "      <td>41597784</td>\n",
       "      <td>BTCUSD</td>\n",
       "      <td>buy</td>\n",
       "      <td>10</td>\n",
       "      <td>34875.7000000</td>\n",
       "      <td>31000.0000000</td>\n",
       "      <td>44000.0000000</td>\n",
       "      <td>2021-06-10 15:09:44</td>\n",
       "      <td>37703.7000000</td>\n",
       "      <td>0</td>\n",
       "      <td>-201.9900000</td>\n",
       "      <td>28280.0000000</td>\n",
       "      <td>83199.0000000</td>\n",
       "      <td>282800.0000000</td>\n",
       "    </tr>\n",
       "    <tr>\n",
       "      <th>4</th>\n",
       "      <td>2021-06-10 15:10:20</td>\n",
       "      <td>41636832</td>\n",
       "      <td>ETHUSD</td>\n",
       "      <td>buy</td>\n",
       "      <td>25</td>\n",
       "      <td>2559.0300000</td>\n",
       "      <td>1998.5800000</td>\n",
       "      <td>3556.6800000</td>\n",
       "      <td>2021-06-15 15:31:25</td>\n",
       "      <td>2584.7400000</td>\n",
       "      <td>0</td>\n",
       "      <td>-1687.1900000</td>\n",
       "      <td>6428.0000000</td>\n",
       "      <td>433265.0000000</td>\n",
       "      <td>2571.0000000</td>\n",
       "    </tr>\n",
       "    <tr>\n",
       "      <th>5</th>\n",
       "      <td>2021-06-11 16:02:36</td>\n",
       "      <td>41686753</td>\n",
       "      <td>XLMUSD</td>\n",
       "      <td>buy</td>\n",
       "      <td>20</td>\n",
       "      <td>0.3383300</td>\n",
       "      <td>0.3000000</td>\n",
       "      <td>0.4000000</td>\n",
       "      <td>2021-06-15 15:31:46</td>\n",
       "      <td>0.3389300</td>\n",
       "      <td>0</td>\n",
       "      <td>-72.1600000</td>\n",
       "      <td>120.5000000</td>\n",
       "      <td>343750.0000000</td>\n",
       "      <td>60.0000000</td>\n",
       "    </tr>\n",
       "    <tr>\n",
       "      <th>6</th>\n",
       "      <td>2021-06-14 02:21:10</td>\n",
       "      <td>41704116</td>\n",
       "      <td>LNKUSD</td>\n",
       "      <td>buy</td>\n",
       "      <td>15</td>\n",
       "      <td>23.3330000</td>\n",
       "      <td>17.1740000</td>\n",
       "      <td>32.5790000</td>\n",
       "      <td>2021-06-15 15:30:53</td>\n",
       "      <td>25.8130000</td>\n",
       "      <td>0</td>\n",
       "      <td>-20.1000000</td>\n",
       "      <td>3720.0000000</td>\n",
       "      <td>133783.0000000</td>\n",
       "      <td>2480.0000000</td>\n",
       "    </tr>\n",
       "    <tr>\n",
       "      <th>7</th>\n",
       "      <td>2021-06-15 01:40:28</td>\n",
       "      <td>41738082</td>\n",
       "      <td>BTCUSD</td>\n",
       "      <td>buy</td>\n",
       "      <td>5</td>\n",
       "      <td>40284.2200000</td>\n",
       "      <td>39000.0000000</td>\n",
       "      <td>42000.0000000</td>\n",
       "      <td>2021-06-16 03:48:13</td>\n",
       "      <td>40003.6000000</td>\n",
       "      <td>0</td>\n",
       "      <td>-110.8500000</td>\n",
       "      <td>-1403.1000000</td>\n",
       "      <td>94065.0000000</td>\n",
       "      <td>-28062.0000000</td>\n",
       "    </tr>\n",
       "    <tr>\n",
       "      <th>8</th>\n",
       "      <td>2021-06-16 01:34:21</td>\n",
       "      <td>41779302</td>\n",
       "      <td>LTCUSD</td>\n",
       "      <td>buy</td>\n",
       "      <td>5</td>\n",
       "      <td>175.1100000</td>\n",
       "      <td>150.0000000</td>\n",
       "      <td>225.0000000</td>\n",
       "      <td>2021-06-16 03:48:07</td>\n",
       "      <td>175.4700000</td>\n",
       "      <td>0</td>\n",
       "      <td>0.0000000</td>\n",
       "      <td>180.0000000</td>\n",
       "      <td>8026.0000000</td>\n",
       "      <td>36.0000000</td>\n",
       "    </tr>\n",
       "  </tbody>\n",
       "</table>\n",
       "</div>"
      ],
      "text/plain": [
       "            Open Time  Position  Symbol Type  Volume    Open Price  \\\n",
       "0 2021-06-08 16:59:03  41566725  BTCUSD  buy       5 32549.5500000   \n",
       "1 2021-06-08 16:59:57  41566764  ETHUSD  buy       5  2439.8500000   \n",
       "2 2021-06-08 17:00:25  41566822  IOTUSD  buy      70     1.1341000   \n",
       "3 2021-06-09 16:03:05  41597784  BTCUSD  buy      10 34875.7000000   \n",
       "4 2021-06-10 15:10:20  41636832  ETHUSD  buy      25  2559.0300000   \n",
       "5 2021-06-11 16:02:36  41686753  XLMUSD  buy      20     0.3383300   \n",
       "6 2021-06-14 02:21:10  41704116  LNKUSD  buy      15    23.3330000   \n",
       "7 2021-06-15 01:40:28  41738082  BTCUSD  buy       5 40284.2200000   \n",
       "8 2021-06-16 01:34:21  41779302  LTCUSD  buy       5   175.1100000   \n",
       "\n",
       "          S / L         T / P          Close Time   Close Price  Commission  \\\n",
       "0 31000.0000000 44000.0000000 2021-06-09 15:26:09 35154.7000000           0   \n",
       "1  2305.7400000  2750.0000000 2021-06-09 15:26:15  2555.4500000           0   \n",
       "2     0.8000000     2.0000000 2021-06-15 21:43:11     1.1335000           0   \n",
       "3 31000.0000000 44000.0000000 2021-06-10 15:09:44 37703.7000000           0   \n",
       "4  1998.5800000  3556.6800000 2021-06-15 15:31:25  2584.7400000           0   \n",
       "5     0.3000000     0.4000000 2021-06-15 15:31:46     0.3389300           0   \n",
       "6    17.1740000    32.5790000 2021-06-15 15:30:53    25.8130000           0   \n",
       "7 39000.0000000 42000.0000000 2021-06-16 03:48:13 40003.6000000           0   \n",
       "8   150.0000000   225.0000000 2021-06-16 03:48:07   175.4700000           0   \n",
       "\n",
       "           Swap        Profit         Tiempo           Pips  \n",
       "0   -93.3200000 13025.7500000  80826.0000000 260515.0000000  \n",
       "1   -70.3800000  5780.0000000  80778.0000000  11560.0000000  \n",
       "2  -271.1500000   -40.5000000 621766.0000000     -6.0000000  \n",
       "3  -201.9900000 28280.0000000  83199.0000000 282800.0000000  \n",
       "4 -1687.1900000  6428.0000000 433265.0000000   2571.0000000  \n",
       "5   -72.1600000   120.5000000 343750.0000000     60.0000000  \n",
       "6   -20.1000000  3720.0000000 133783.0000000   2480.0000000  \n",
       "7  -110.8500000 -1403.1000000  94065.0000000 -28062.0000000  \n",
       "8     0.0000000   180.0000000   8026.0000000     36.0000000  "
      ]
     },
     "execution_count": 216,
     "metadata": {},
     "output_type": "execute_result"
    }
   ],
   "source": [
    "def f_columnas_pips(param_data):\n",
    "    rows = []\n",
    "    for x in range(len(param_data)):\n",
    "        rows.append(float(f_pip_size(param_data.loc[x, \"Symbol\"])))\n",
    "    provdf = pd.DataFrame(rows, columns=[\"Pips\"])\n",
    "    param_data[\"Pips\"] = (k2[\"Close Price\"] - k2[\"Open Price\"])*(provdf['Pips'])\n",
    "    param_data[\"Pips Accumulated\"] = \n",
    "    param_data[\"Profit Accumulated\"] = \n",
    "    return param_data\n",
    "    "
   ]
  },
  {
   "cell_type": "code",
   "execution_count": 2,
   "metadata": {},
   "outputs": [],
   "source": [
    "# DELETE THIS CELL IN YOUR FILE\n",
    "\n",
    "# Here you include content from data conceptual, statistical and visual description"
   ]
  },
  {
   "cell_type": "markdown",
   "metadata": {},
   "source": [
    "<br>"
   ]
  },
  {
   "cell_type": "markdown",
   "metadata": {},
   "source": [
    "# <font color= #6B6B6B> 4. Descriptive statistics  </font>"
   ]
  },
  {
   "cell_type": "markdown",
   "metadata": {},
   "source": [
    "<hr style=\"border:0.02in solid gray\"> </hr>"
   ]
  },
  {
   "cell_type": "code",
   "execution_count": 3,
   "metadata": {},
   "outputs": [],
   "source": [
    "# DELETE THIS CELL IN YOUR FILE\n",
    "\n",
    "# A particular process that is relevant for the work you are presenting."
   ]
  },
  {
   "cell_type": "markdown",
   "metadata": {},
   "source": [
    "<br>"
   ]
  },
  {
   "cell_type": "markdown",
   "metadata": {},
   "source": [
    "# <font color= #6B6B6B> 5. Performance Attribution Measures  </font>"
   ]
  },
  {
   "cell_type": "markdown",
   "metadata": {},
   "source": [
    "<hr style=\"border:0.02in solid gray\"> </hr>"
   ]
  },
  {
   "cell_type": "code",
   "execution_count": 4,
   "metadata": {},
   "outputs": [],
   "source": [
    "# DELETE THIS CELL IN YOUR FILE\n",
    "\n",
    "# Another particular process that is relevant for the work. Normally, you include between 2 and 5 at the most."
   ]
  },
  {
   "cell_type": "markdown",
   "metadata": {},
   "source": [
    "# <font color= #6B6B6B> 6. Behavioral Finance </font>"
   ]
  },
  {
   "cell_type": "markdown",
   "metadata": {},
   "source": [
    "<hr style=\"border:0.02in solid gray\"> </hr>"
   ]
  },
  {
   "cell_type": "code",
   "execution_count": 4,
   "metadata": {},
   "outputs": [],
   "source": [
    "# DELETE THIS CELL IN YOUR FILE\n",
    "\n",
    "# Another particular process that is relevant for the work. Normally, you include between 2 and 5 at the most."
   ]
  },
  {
   "cell_type": "markdown",
   "metadata": {},
   "source": [
    "<br>"
   ]
  },
  {
   "cell_type": "markdown",
   "metadata": {},
   "source": [
    "# <font color= #6B6B6B> <font size = 6> 5. Results and visualizations </font>"
   ]
  },
  {
   "cell_type": "markdown",
   "metadata": {},
   "source": [
    "<hr style=\"border:0.02in solid gray\"> </hr>"
   ]
  },
  {
   "cell_type": "code",
   "execution_count": 5,
   "metadata": {},
   "outputs": [],
   "source": [
    "# DELETE THIS CELL IN YOUR FILE\n",
    "\n",
    "# In here you present the general results, and also, a discussion of such results."
   ]
  },
  {
   "cell_type": "markdown",
   "metadata": {},
   "source": [
    "<br>"
   ]
  },
  {
   "cell_type": "markdown",
   "metadata": {},
   "source": [
    "## <font color= #6B6B6B> 5.1 Results of first processes </font>"
   ]
  },
  {
   "cell_type": "code",
   "execution_count": 6,
   "metadata": {},
   "outputs": [],
   "source": [
    "# DELETE THIS CELL IN YOUR FILE\n",
    "\n",
    "# Separate your results according to the main processes you are working on"
   ]
  },
  {
   "cell_type": "markdown",
   "metadata": {},
   "source": [
    "<br>"
   ]
  },
  {
   "cell_type": "markdown",
   "metadata": {},
   "source": [
    "## <font color= #6B6B6B> 5.2 Results of another proces </font>"
   ]
  },
  {
   "cell_type": "code",
   "execution_count": 7,
   "metadata": {},
   "outputs": [],
   "source": [
    "# DELETE THIS CELL IN YOUR FILE\n",
    "\n",
    "# You can have several processes with which you are obtaining the results you need."
   ]
  },
  {
   "cell_type": "markdown",
   "metadata": {},
   "source": [
    "<br>"
   ]
  },
  {
   "cell_type": "markdown",
   "metadata": {},
   "source": [
    "# <font color= #6B6B6B> <font size = 6> 6. References </font>"
   ]
  },
  {
   "cell_type": "markdown",
   "metadata": {},
   "source": [
    "<hr style=\"border:0.02in solid gray\"> </hr>"
   ]
  },
  {
   "cell_type": "markdown",
   "metadata": {},
   "source": [
    "[1] Munnoz, 2020. Python project template. https://github.com/iffranciscome/python-project. (2021)."
   ]
  },
  {
   "cell_type": "markdown",
   "metadata": {},
   "source": [
    "<br>"
   ]
  }
 ],
 "metadata": {
  "kernelspec": {
   "display_name": "Python 3",
   "language": "python",
   "name": "python3"
  },
  "language_info": {
   "codemirror_mode": {
    "name": "ipython",
    "version": 3
   },
   "file_extension": ".py",
   "mimetype": "text/x-python",
   "name": "python",
   "nbconvert_exporter": "python",
   "pygments_lexer": "ipython3",
   "version": "3.8.8"
  }
 },
 "nbformat": 4,
 "nbformat_minor": 4
}

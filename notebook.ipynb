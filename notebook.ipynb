{
 "cells": [
  {
   "cell_type": "markdown",
   "metadata": {},
   "source": [
    "<center> <img src=\"http://oci02.img.iteso.mx/identidad_de_instancia_2018/ITESO/Logos%20ITESO/Logo-ITESO-Principal.jpg\" align=\"center\" width=\"960\" height=\"480\"/> </center>"
   ]
  },
  {
   "cell_type": "markdown",
   "metadata": {},
   "source": [
    "<center><font color=#555555><font size=6> MAF1731 - Microstructure and Trading Systems </font> <br> <br>\n",
    "    \n",
    "<center><font color=#555555><font size=5> B.Eng Financial Engineering </font> <br> <br> <br> <br>\n",
    "\n",
    "<center><font color=#555555><font size=6> I.F. ALEJANDRO MICHEL MARRÓN </font> <br> <br>\n",
    "   \n",
    "<center> <font color= #555555> <font size = 4> Jun 2021 </a> | <font color= #555555> <font size = 4> Repository: <a href='https://github.com/HKael/MyST_LAB_3_EAMM'>Link</a></font>"
   ]
  },
  {
   "cell_type": "markdown",
   "metadata": {},
   "source": [
    "<hr style=\"border:0.02in solid gray\"> </hr>"
   ]
  },
  {
   "cell_type": "markdown",
   "metadata": {},
   "source": [
    "<center> <font color= #555555> <font size = 6> Lab 3 </font> <br> <br> <font color= #555555> <font size = 5> Behavioral Economics: Speculative Trading\n",
    "  </font>"
   ]
  },
  {
   "cell_type": "markdown",
   "metadata": {},
   "source": [
    "<hr style=\"border:0.02in solid gray\"> </hr>"
   ]
  },
  {
   "cell_type": "markdown",
   "metadata": {},
   "source": [
    "<br>"
   ]
  },
  {
   "cell_type": "markdown",
   "metadata": {},
   "source": [
    "<font color= #555555> <font size = 4> Abstract </font>"
   ]
  },
  {
   "cell_type": "markdown",
   "metadata": {},
   "source": [
    "<font color= #6B6B6B> <font size = 3>  Include here a description of the whole work, use no more than 400 words, you can use **Bold** and *Italic* highlights, also you can inclue [links](www.iteso.mx). Usually is a good strategy to generate this text at the very end of the process, since you have to include all aspects of the work, from a brief introduction, to problem definitions and methods used, to finally the results found. </font>"
   ]
  },
  {
   "cell_type": "markdown",
   "metadata": {},
   "source": [
    "<br>"
   ]
  },
  {
   "cell_type": "markdown",
   "metadata": {},
   "source": [
    "# <font color= #6B6B6B> <font size = 6> 1. Introduction </font>"
   ]
  },
  {
   "cell_type": "markdown",
   "metadata": {},
   "source": [
    "<hr style=\"border:0.02in solid gray\"> </hr>"
   ]
  },
  {
   "cell_type": "markdown",
   "metadata": {},
   "source": [
    "This is an introduction, normally, it is done at the very end, when all the other content in the notebook is completed but just before the abstract (which is short version of the introduction) ... "
   ]
  },
  {
   "cell_type": "markdown",
   "metadata": {},
   "source": [
    "<br>"
   ]
  },
  {
   "cell_type": "markdown",
   "metadata": {},
   "source": [
    "# <font color= #6B6B6B> 2. Install/Load Packages and Depedencies </font>"
   ]
  },
  {
   "cell_type": "markdown",
   "metadata": {},
   "source": [
    "<hr style=\"border:0.02in solid gray\"> </hr>"
   ]
  },
  {
   "cell_type": "code",
   "execution_count": 4,
   "metadata": {},
   "outputs": [],
   "source": [
    "import numpy as np\n",
    "import pandas as pd\n",
    "\n",
    "import datetime \n",
    "import time\n",
    "\n",
    "\n",
    "pd.set_option('display.float_format', '{:.4f}'.format)"
   ]
  },
  {
   "cell_type": "markdown",
   "metadata": {},
   "source": [
    "<br>"
   ]
  },
  {
   "cell_type": "markdown",
   "metadata": {},
   "source": [
    "## <font color= #6B6B6B> 2.2 Python Packages </font> <font color= #555555>"
   ]
  },
  {
   "cell_type": "markdown",
   "metadata": {},
   "source": [
    "In order to run this notebook, it is necessary to have installed and/or have the _requirements.txt_ file with the following: "
   ]
  },
  {
   "cell_type": "markdown",
   "metadata": {},
   "source": [
    "- pandas>=1.1.1 \n",
    "- numpy>=1.19.1\n",
    "- jupyter>=1.0.0\n",
    "- _Add any other here_"
   ]
  },
  {
   "cell_type": "markdown",
   "metadata": {},
   "source": [
    "## <font color= #6B6B6B> 2.3 Files Dependencies </font> <font color= #555555>"
   ]
  },
  {
   "cell_type": "markdown",
   "metadata": {},
   "source": [
    "The following are the file dependencies that are needed to run this notebook:"
   ]
  },
  {
   "cell_type": "markdown",
   "metadata": {},
   "source": [
    "- files/precios.csv : Precios históricos\n",
    "- files/datos.txt : Otros datos históricos"
   ]
  },
  {
   "cell_type": "markdown",
   "metadata": {},
   "source": [
    "<br>"
   ]
  },
  {
   "cell_type": "markdown",
   "metadata": {},
   "source": [
    "# <font color= #6B6B6B> 3. Data Description </font>"
   ]
  },
  {
   "cell_type": "code",
   "execution_count": 18,
   "metadata": {},
   "outputs": [],
   "source": [
    "def f_leer_archivo(file_path):\n",
    "    \"\"\"\n",
    "     Name:\n",
    "     -------\n",
    "\n",
    "         f_leer_archivo\n",
    "\n",
    "     Description:\n",
    "     -------\n",
    "\n",
    "         Function that reads a csv file and returns a Data Frame.\n",
    "\n",
    "     Parameters:\n",
    "     -------\n",
    "        file_path: str\n",
    "            String with the file name and the directory if needed\n",
    "\n",
    "    Returns:\n",
    "     -------\n",
    "        data: pd.DataFrame\n",
    "            Data Frame with the historical data from MetaTrader5.\n",
    "     \"\"\"\n",
    "    return pd.read_csv(file_path)\n"
   ]
  },
  {
   "cell_type": "code",
   "execution_count": 30,
   "metadata": {},
   "outputs": [
    {
     "data": {
      "text/html": [
       "<div>\n",
       "<style scoped>\n",
       "    .dataframe tbody tr th:only-of-type {\n",
       "        vertical-align: middle;\n",
       "    }\n",
       "\n",
       "    .dataframe tbody tr th {\n",
       "        vertical-align: top;\n",
       "    }\n",
       "\n",
       "    .dataframe thead th {\n",
       "        text-align: right;\n",
       "    }\n",
       "</style>\n",
       "<table border=\"1\" class=\"dataframe\">\n",
       "  <thead>\n",
       "    <tr style=\"text-align: right;\">\n",
       "      <th></th>\n",
       "      <th>Instrument</th>\n",
       "      <th>Description</th>\n",
       "      <th>Sector</th>\n",
       "      <th>TickSize</th>\n",
       "      <th>PipLocation</th>\n",
       "    </tr>\n",
       "  </thead>\n",
       "  <tbody>\n",
       "    <tr>\n",
       "      <th>0</th>\n",
       "      <td>AU200_AUD</td>\n",
       "      <td>Australia 200</td>\n",
       "      <td>Index</td>\n",
       "      <td>1.0000</td>\n",
       "      <td>0</td>\n",
       "    </tr>\n",
       "    <tr>\n",
       "      <th>1</th>\n",
       "      <td>BCO_USD</td>\n",
       "      <td>Brent Crude Oil</td>\n",
       "      <td>Commodity</td>\n",
       "      <td>0.0100</td>\n",
       "      <td>-2</td>\n",
       "    </tr>\n",
       "    <tr>\n",
       "      <th>2</th>\n",
       "      <td>CN50_USD</td>\n",
       "      <td>China A50</td>\n",
       "      <td>Index</td>\n",
       "      <td>1.0000</td>\n",
       "      <td>0</td>\n",
       "    </tr>\n",
       "    <tr>\n",
       "      <th>3</th>\n",
       "      <td>CORN_USD</td>\n",
       "      <td>Corn</td>\n",
       "      <td>Commodity</td>\n",
       "      <td>0.0100</td>\n",
       "      <td>-2</td>\n",
       "    </tr>\n",
       "    <tr>\n",
       "      <th>4</th>\n",
       "      <td>DE10YB_EUR</td>\n",
       "      <td>Bund</td>\n",
       "      <td>Treasury</td>\n",
       "      <td>0.0100</td>\n",
       "      <td>-2</td>\n",
       "    </tr>\n",
       "    <tr>\n",
       "      <th>...</th>\n",
       "      <td>...</td>\n",
       "      <td>...</td>\n",
       "      <td>...</td>\n",
       "      <td>...</td>\n",
       "      <td>...</td>\n",
       "    </tr>\n",
       "    <tr>\n",
       "      <th>119</th>\n",
       "      <td>XAU_SGD</td>\n",
       "      <td>Gold/SGD</td>\n",
       "      <td>Commodity</td>\n",
       "      <td>0.0100</td>\n",
       "      <td>-2</td>\n",
       "    </tr>\n",
       "    <tr>\n",
       "      <th>120</th>\n",
       "      <td>XAU_USD</td>\n",
       "      <td>Gold</td>\n",
       "      <td>Commodity</td>\n",
       "      <td>0.0100</td>\n",
       "      <td>-2</td>\n",
       "    </tr>\n",
       "    <tr>\n",
       "      <th>121</th>\n",
       "      <td>XAU_XAG</td>\n",
       "      <td>Gold/Silver</td>\n",
       "      <td>Commodity</td>\n",
       "      <td>0.0100</td>\n",
       "      <td>-2</td>\n",
       "    </tr>\n",
       "    <tr>\n",
       "      <th>122</th>\n",
       "      <td>XPD_USD</td>\n",
       "      <td>Palladium</td>\n",
       "      <td>Commodity</td>\n",
       "      <td>0.0100</td>\n",
       "      <td>-2</td>\n",
       "    </tr>\n",
       "    <tr>\n",
       "      <th>123</th>\n",
       "      <td>XPT_USD</td>\n",
       "      <td>Platinum</td>\n",
       "      <td>Commodity</td>\n",
       "      <td>0.0100</td>\n",
       "      <td>-2</td>\n",
       "    </tr>\n",
       "  </tbody>\n",
       "</table>\n",
       "<p>124 rows × 5 columns</p>\n",
       "</div>"
      ],
      "text/plain": [
       "     Instrument      Description      Sector  TickSize  PipLocation\n",
       "0     AU200_AUD    Australia 200       Index    1.0000            0\n",
       "1       BCO_USD  Brent Crude Oil   Commodity    0.0100           -2\n",
       "2      CN50_USD        China A50       Index    1.0000            0\n",
       "3      CORN_USD             Corn   Commodity    0.0100           -2\n",
       "4    DE10YB_EUR             Bund    Treasury    0.0100           -2\n",
       "..          ...              ...         ...       ...          ...\n",
       "119     XAU_SGD         Gold/SGD   Commodity    0.0100           -2\n",
       "120     XAU_USD             Gold   Commodity    0.0100           -2\n",
       "121     XAU_XAG      Gold/Silver   Commodity    0.0100           -2\n",
       "122     XPD_USD        Palladium   Commodity    0.0100           -2\n",
       "123     XPT_USD         Platinum   Commodity    0.0100           -2\n",
       "\n",
       "[124 rows x 5 columns]"
      ]
     },
     "execution_count": 30,
     "metadata": {},
     "output_type": "execute_result"
    }
   ],
   "source": [
    "data_pips"
   ]
  },
  {
   "cell_type": "markdown",
   "metadata": {},
   "source": [
    "<hr style=\"border:0.02in solid gray\"> </hr>"
   ]
  },
  {
   "cell_type": "code",
   "execution_count": 15,
   "metadata": {},
   "outputs": [],
   "source": [
    "data_pips = f_leer_archivo(\"files/instruments_pips.csv\")\n",
    "data_historical = pd.read_csv(\"files/historical_data.csv\")"
   ]
  },
  {
   "cell_type": "code",
   "execution_count": 29,
   "metadata": {},
   "outputs": [
    {
     "data": {
      "text/plain": [
       "array([ 0, -2, -1, -4,  1], dtype=int64)"
      ]
     },
     "execution_count": 29,
     "metadata": {},
     "output_type": "execute_result"
    }
   ],
   "source": [
    "data_pips[\"PipLocation\"].unique()"
   ]
  },
  {
   "cell_type": "code",
   "execution_count": 24,
   "metadata": {},
   "outputs": [
    {
     "data": {
      "text/plain": [
       "0      0\n",
       "1     -2\n",
       "2      0\n",
       "3     -2\n",
       "4     -2\n",
       "      ..\n",
       "119   -2\n",
       "120   -2\n",
       "121   -2\n",
       "122   -2\n",
       "123   -2\n",
       "Name: PipLocation, Length: 124, dtype: int64"
      ]
     },
     "execution_count": 24,
     "metadata": {},
     "output_type": "execute_result"
    }
   ],
   "source": [
    "data_pips[\"PipLocation\"]"
   ]
  },
  {
   "cell_type": "code",
   "execution_count": 17,
   "metadata": {},
   "outputs": [
    {
     "data": {
      "text/html": [
       "<div>\n",
       "<style scoped>\n",
       "    .dataframe tbody tr th:only-of-type {\n",
       "        vertical-align: middle;\n",
       "    }\n",
       "\n",
       "    .dataframe tbody tr th {\n",
       "        vertical-align: top;\n",
       "    }\n",
       "\n",
       "    .dataframe thead th {\n",
       "        text-align: right;\n",
       "    }\n",
       "</style>\n",
       "<table border=\"1\" class=\"dataframe\">\n",
       "  <thead>\n",
       "    <tr style=\"text-align: right;\">\n",
       "      <th></th>\n",
       "      <th>Time</th>\n",
       "      <th>Position</th>\n",
       "      <th>Symbol</th>\n",
       "      <th>Type</th>\n",
       "      <th>Volume</th>\n",
       "      <th>Price</th>\n",
       "      <th>S / L</th>\n",
       "      <th>T / P</th>\n",
       "      <th>Time.1</th>\n",
       "      <th>Price.1</th>\n",
       "      <th>Commission</th>\n",
       "      <th>Swap</th>\n",
       "      <th>Profit</th>\n",
       "    </tr>\n",
       "  </thead>\n",
       "  <tbody>\n",
       "    <tr>\n",
       "      <th>0</th>\n",
       "      <td>2021.06.08 16:59:03</td>\n",
       "      <td>41566725</td>\n",
       "      <td>BTCUSD</td>\n",
       "      <td>buy</td>\n",
       "      <td>5</td>\n",
       "      <td>32549.5500</td>\n",
       "      <td>31000.0000</td>\n",
       "      <td>44000.0000</td>\n",
       "      <td>2021.06.09 15:26:09</td>\n",
       "      <td>35154.7000</td>\n",
       "      <td>0</td>\n",
       "      <td>-93.3200</td>\n",
       "      <td>13025.7500</td>\n",
       "    </tr>\n",
       "    <tr>\n",
       "      <th>1</th>\n",
       "      <td>2021.06.08 16:59:57</td>\n",
       "      <td>41566764</td>\n",
       "      <td>ETHUSD</td>\n",
       "      <td>buy</td>\n",
       "      <td>5</td>\n",
       "      <td>2439.8500</td>\n",
       "      <td>2305.7400</td>\n",
       "      <td>2750.0000</td>\n",
       "      <td>2021.06.09 15:26:15</td>\n",
       "      <td>2555.4500</td>\n",
       "      <td>0</td>\n",
       "      <td>-70.3800</td>\n",
       "      <td>5780.0000</td>\n",
       "    </tr>\n",
       "    <tr>\n",
       "      <th>2</th>\n",
       "      <td>2021.06.08 17:00:25</td>\n",
       "      <td>41566822</td>\n",
       "      <td>IOTUSD</td>\n",
       "      <td>buy</td>\n",
       "      <td>70</td>\n",
       "      <td>1.1341</td>\n",
       "      <td>0.8000</td>\n",
       "      <td>2.0000</td>\n",
       "      <td>2021.06.15 21:43:11</td>\n",
       "      <td>1.1335</td>\n",
       "      <td>0</td>\n",
       "      <td>-271.1500</td>\n",
       "      <td>-40.5000</td>\n",
       "    </tr>\n",
       "    <tr>\n",
       "      <th>3</th>\n",
       "      <td>2021.06.09 16:03:05</td>\n",
       "      <td>41597784</td>\n",
       "      <td>BTCUSD</td>\n",
       "      <td>buy</td>\n",
       "      <td>10</td>\n",
       "      <td>34875.7000</td>\n",
       "      <td>31000.0000</td>\n",
       "      <td>44000.0000</td>\n",
       "      <td>2021.06.10 15:09:44</td>\n",
       "      <td>37703.7000</td>\n",
       "      <td>0</td>\n",
       "      <td>-201.9900</td>\n",
       "      <td>28280.0000</td>\n",
       "    </tr>\n",
       "    <tr>\n",
       "      <th>4</th>\n",
       "      <td>2021.06.10 15:10:20</td>\n",
       "      <td>41636832</td>\n",
       "      <td>ETHUSD</td>\n",
       "      <td>buy</td>\n",
       "      <td>25</td>\n",
       "      <td>2559.0300</td>\n",
       "      <td>1998.5800</td>\n",
       "      <td>3556.6800</td>\n",
       "      <td>2021.06.15 15:31:25</td>\n",
       "      <td>2584.7400</td>\n",
       "      <td>0</td>\n",
       "      <td>-1687.1900</td>\n",
       "      <td>6428.0000</td>\n",
       "    </tr>\n",
       "    <tr>\n",
       "      <th>5</th>\n",
       "      <td>2021.06.11 16:02:36</td>\n",
       "      <td>41686753</td>\n",
       "      <td>XLMUSD</td>\n",
       "      <td>buy</td>\n",
       "      <td>20</td>\n",
       "      <td>0.3383</td>\n",
       "      <td>0.3000</td>\n",
       "      <td>0.4000</td>\n",
       "      <td>2021.06.15 15:31:46</td>\n",
       "      <td>0.3389</td>\n",
       "      <td>0</td>\n",
       "      <td>-72.1600</td>\n",
       "      <td>120.5000</td>\n",
       "    </tr>\n",
       "    <tr>\n",
       "      <th>6</th>\n",
       "      <td>2021.06.14 02:21:10</td>\n",
       "      <td>41704116</td>\n",
       "      <td>LNKUSD</td>\n",
       "      <td>buy</td>\n",
       "      <td>15</td>\n",
       "      <td>23.3330</td>\n",
       "      <td>17.1740</td>\n",
       "      <td>32.5790</td>\n",
       "      <td>2021.06.15 15:30:53</td>\n",
       "      <td>25.8130</td>\n",
       "      <td>0</td>\n",
       "      <td>-20.1000</td>\n",
       "      <td>3720.0000</td>\n",
       "    </tr>\n",
       "    <tr>\n",
       "      <th>7</th>\n",
       "      <td>2021.06.15 01:40:28</td>\n",
       "      <td>41738082</td>\n",
       "      <td>BTCUSD</td>\n",
       "      <td>buy</td>\n",
       "      <td>5</td>\n",
       "      <td>40284.2200</td>\n",
       "      <td>39000.0000</td>\n",
       "      <td>42000.0000</td>\n",
       "      <td>2021.06.16 03:48:13</td>\n",
       "      <td>40003.6000</td>\n",
       "      <td>0</td>\n",
       "      <td>-110.8500</td>\n",
       "      <td>-1403.1000</td>\n",
       "    </tr>\n",
       "    <tr>\n",
       "      <th>8</th>\n",
       "      <td>2021.06.16 01:34:21</td>\n",
       "      <td>41779302</td>\n",
       "      <td>LTCUSD</td>\n",
       "      <td>buy</td>\n",
       "      <td>5</td>\n",
       "      <td>175.1100</td>\n",
       "      <td>150.0000</td>\n",
       "      <td>225.0000</td>\n",
       "      <td>2021.06.16 03:48:07</td>\n",
       "      <td>175.4700</td>\n",
       "      <td>0</td>\n",
       "      <td>0.0000</td>\n",
       "      <td>180.0000</td>\n",
       "    </tr>\n",
       "  </tbody>\n",
       "</table>\n",
       "</div>"
      ],
      "text/plain": [
       "                  Time  Position  Symbol Type  Volume      Price      S / L  \\\n",
       "0  2021.06.08 16:59:03  41566725  BTCUSD  buy       5 32549.5500 31000.0000   \n",
       "1  2021.06.08 16:59:57  41566764  ETHUSD  buy       5  2439.8500  2305.7400   \n",
       "2  2021.06.08 17:00:25  41566822  IOTUSD  buy      70     1.1341     0.8000   \n",
       "3  2021.06.09 16:03:05  41597784  BTCUSD  buy      10 34875.7000 31000.0000   \n",
       "4  2021.06.10 15:10:20  41636832  ETHUSD  buy      25  2559.0300  1998.5800   \n",
       "5  2021.06.11 16:02:36  41686753  XLMUSD  buy      20     0.3383     0.3000   \n",
       "6  2021.06.14 02:21:10  41704116  LNKUSD  buy      15    23.3330    17.1740   \n",
       "7  2021.06.15 01:40:28  41738082  BTCUSD  buy       5 40284.2200 39000.0000   \n",
       "8  2021.06.16 01:34:21  41779302  LTCUSD  buy       5   175.1100   150.0000   \n",
       "\n",
       "       T / P               Time.1    Price.1  Commission       Swap     Profit  \n",
       "0 44000.0000  2021.06.09 15:26:09 35154.7000           0   -93.3200 13025.7500  \n",
       "1  2750.0000  2021.06.09 15:26:15  2555.4500           0   -70.3800  5780.0000  \n",
       "2     2.0000  2021.06.15 21:43:11     1.1335           0  -271.1500   -40.5000  \n",
       "3 44000.0000  2021.06.10 15:09:44 37703.7000           0  -201.9900 28280.0000  \n",
       "4  3556.6800  2021.06.15 15:31:25  2584.7400           0 -1687.1900  6428.0000  \n",
       "5     0.4000  2021.06.15 15:31:46     0.3389           0   -72.1600   120.5000  \n",
       "6    32.5790  2021.06.15 15:30:53    25.8130           0   -20.1000  3720.0000  \n",
       "7 42000.0000  2021.06.16 03:48:13 40003.6000           0  -110.8500 -1403.1000  \n",
       "8   225.0000  2021.06.16 03:48:07   175.4700           0     0.0000   180.0000  "
      ]
     },
     "execution_count": 17,
     "metadata": {},
     "output_type": "execute_result"
    }
   ],
   "source": [
    "if data_pips[\"PipLocation\"] == 0\n",
    "    psize = 1\n",
    "    elif data_pips[\"PipLocation\"] == 0\n",
    "    psize = 1\n",
    "    elif \n",
    "    "
   ]
  },
  {
   "cell_type": "code",
   "execution_count": null,
   "metadata": {},
   "outputs": [],
   "source": []
  },
  {
   "cell_type": "code",
   "execution_count": 2,
   "metadata": {},
   "outputs": [],
   "source": [
    "# DELETE THIS CELL IN YOUR FILE\n",
    "\n",
    "# Here you include content from data conceptual, statistical and visual description"
   ]
  },
  {
   "cell_type": "markdown",
   "metadata": {},
   "source": [
    "<br>"
   ]
  },
  {
   "cell_type": "markdown",
   "metadata": {},
   "source": [
    "# <font color= #6B6B6B> 4. Descriptive statistics  </font>"
   ]
  },
  {
   "cell_type": "markdown",
   "metadata": {},
   "source": [
    "<hr style=\"border:0.02in solid gray\"> </hr>"
   ]
  },
  {
   "cell_type": "code",
   "execution_count": 3,
   "metadata": {},
   "outputs": [],
   "source": [
    "# DELETE THIS CELL IN YOUR FILE\n",
    "\n",
    "# A particular process that is relevant for the work you are presenting."
   ]
  },
  {
   "cell_type": "markdown",
   "metadata": {},
   "source": [
    "<br>"
   ]
  },
  {
   "cell_type": "markdown",
   "metadata": {},
   "source": [
    "# <font color= #6B6B6B> 5. Performance Attribution Measures  </font>"
   ]
  },
  {
   "cell_type": "markdown",
   "metadata": {},
   "source": [
    "<hr style=\"border:0.02in solid gray\"> </hr>"
   ]
  },
  {
   "cell_type": "code",
   "execution_count": 4,
   "metadata": {},
   "outputs": [],
   "source": [
    "# DELETE THIS CELL IN YOUR FILE\n",
    "\n",
    "# Another particular process that is relevant for the work. Normally, you include between 2 and 5 at the most."
   ]
  },
  {
   "cell_type": "markdown",
   "metadata": {},
   "source": [
    "# <font color= #6B6B6B> 6. Behavioral Finance </font>"
   ]
  },
  {
   "cell_type": "markdown",
   "metadata": {},
   "source": [
    "<hr style=\"border:0.02in solid gray\"> </hr>"
   ]
  },
  {
   "cell_type": "code",
   "execution_count": 4,
   "metadata": {},
   "outputs": [],
   "source": [
    "# DELETE THIS CELL IN YOUR FILE\n",
    "\n",
    "# Another particular process that is relevant for the work. Normally, you include between 2 and 5 at the most."
   ]
  },
  {
   "cell_type": "markdown",
   "metadata": {},
   "source": [
    "<br>"
   ]
  },
  {
   "cell_type": "markdown",
   "metadata": {},
   "source": [
    "# <font color= #6B6B6B> <font size = 6> 5. Results and visualizations </font>"
   ]
  },
  {
   "cell_type": "markdown",
   "metadata": {},
   "source": [
    "<hr style=\"border:0.02in solid gray\"> </hr>"
   ]
  },
  {
   "cell_type": "code",
   "execution_count": 5,
   "metadata": {},
   "outputs": [],
   "source": [
    "# DELETE THIS CELL IN YOUR FILE\n",
    "\n",
    "# In here you present the general results, and also, a discussion of such results."
   ]
  },
  {
   "cell_type": "markdown",
   "metadata": {},
   "source": [
    "<br>"
   ]
  },
  {
   "cell_type": "markdown",
   "metadata": {},
   "source": [
    "## <font color= #6B6B6B> 5.1 Results of first processes </font>"
   ]
  },
  {
   "cell_type": "code",
   "execution_count": 6,
   "metadata": {},
   "outputs": [],
   "source": [
    "# DELETE THIS CELL IN YOUR FILE\n",
    "\n",
    "# Separate your results according to the main processes you are working on"
   ]
  },
  {
   "cell_type": "markdown",
   "metadata": {},
   "source": [
    "<br>"
   ]
  },
  {
   "cell_type": "markdown",
   "metadata": {},
   "source": [
    "## <font color= #6B6B6B> 5.2 Results of another proces </font>"
   ]
  },
  {
   "cell_type": "code",
   "execution_count": 7,
   "metadata": {},
   "outputs": [],
   "source": [
    "# DELETE THIS CELL IN YOUR FILE\n",
    "\n",
    "# You can have several processes with which you are obtaining the results you need."
   ]
  },
  {
   "cell_type": "markdown",
   "metadata": {},
   "source": [
    "<br>"
   ]
  },
  {
   "cell_type": "markdown",
   "metadata": {},
   "source": [
    "# <font color= #6B6B6B> <font size = 6> 6. References </font>"
   ]
  },
  {
   "cell_type": "markdown",
   "metadata": {},
   "source": [
    "<hr style=\"border:0.02in solid gray\"> </hr>"
   ]
  },
  {
   "cell_type": "markdown",
   "metadata": {},
   "source": [
    "[1] Munnoz, 2020. Python project template. https://github.com/iffranciscome/python-project. (2021)."
   ]
  },
  {
   "cell_type": "markdown",
   "metadata": {},
   "source": [
    "<br>"
   ]
  }
 ],
 "metadata": {
  "kernelspec": {
   "display_name": "Python 3",
   "language": "python",
   "name": "python3"
  },
  "language_info": {
   "codemirror_mode": {
    "name": "ipython",
    "version": 3
   },
   "file_extension": ".py",
   "mimetype": "text/x-python",
   "name": "python",
   "nbconvert_exporter": "python",
   "pygments_lexer": "ipython3",
   "version": "3.8.8"
  }
 },
 "nbformat": 4,
 "nbformat_minor": 4
}
